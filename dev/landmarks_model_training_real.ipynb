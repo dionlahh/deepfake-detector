{
 "cells": [
  {
   "cell_type": "markdown",
   "metadata": {},
   "source": [
    "# Model Training\n",
    "In this notebook, we trained 4 different EfficientNet models on the faces extracted\n"
   ]
  },
  {
   "cell_type": "code",
   "execution_count": 1,
   "metadata": {},
   "outputs": [
    {
     "name": "stderr",
     "output_type": "stream",
     "text": [
      "/var/folders/6n/_1k_wx3s2fg5c_7xkb973_4h0000gn/T/ipykernel_27145/3896103227.py:24: DeprecationWarning: `set_matplotlib_formats` is deprecated since IPython 7.23, directly use `matplotlib_inline.backend_inline.set_matplotlib_formats()`\n",
      "  set_matplotlib_formats(\"svg\")\n"
     ]
    }
   ],
   "source": [
    "%matplotlib inline\n",
    "from IPython.core.display import set_matplotlib_formats\n",
    "import matplotlib\n",
    "import matplotlib.pyplot as plt\n",
    "import os.path\n",
    "import shutil\n",
    "import pandas as pd\n",
    "import numpy as np\n",
    "import os\n",
    "import json\n",
    "import gc\n",
    "from keras.preprocessing.image import ImageDataGenerator\n",
    "from keras.callbacks import EarlyStopping, ModelCheckpoint\n",
    "from sklearn import metrics\n",
    "from tensorflow.keras import backend as k\n",
    "from tensorflow.keras.callbacks import Callback\n",
    "import tensorflow as tf\n",
    "from common.model_utils import build_model, input_size\n",
    "\n",
    "# import packages and modules for graph plotting\n",
    "from pandas.plotting import table\n",
    "\n",
    "# setup output image format (Chrome works best)\n",
    "set_matplotlib_formats(\"svg\")\n",
    "\n",
    "class ClearMemory(Callback):\n",
    "    def on_epoch_end(self, epoch, logs=None):\n",
    "        gc.collect()\n",
    "        k.clear_session()"
   ]
  },
  {
   "cell_type": "code",
   "execution_count": 2,
   "metadata": {},
   "outputs": [
    {
     "name": "stdout",
     "output_type": "stream",
     "text": [
      "WARNING:tensorflow:From /var/folders/6n/_1k_wx3s2fg5c_7xkb973_4h0000gn/T/ipykernel_27145/263659865.py:1: is_gpu_available (from tensorflow.python.framework.test_util) is deprecated and will be removed in a future version.\n",
      "Instructions for updating:\n",
      "Use `tf.config.list_physical_devices('GPU')` instead.\n",
      "GPU is available and in use.\n"
     ]
    },
    {
     "name": "stderr",
     "output_type": "stream",
     "text": [
      "2024-01-17 23:49:13.282451: I metal_plugin/src/device/metal_device.cc:1154] Metal device set to: Apple M2 Pro\n",
      "2024-01-17 23:49:13.282492: I metal_plugin/src/device/metal_device.cc:296] systemMemory: 32.00 GB\n",
      "2024-01-17 23:49:13.282513: I metal_plugin/src/device/metal_device.cc:313] maxCacheSize: 10.67 GB\n",
      "2024-01-17 23:49:13.282600: I tensorflow/core/common_runtime/pluggable_device/pluggable_device_factory.cc:303] Could not identify NUMA node of platform GPU ID 0, defaulting to 0. Your kernel may not have been built with NUMA support.\n",
      "2024-01-17 23:49:13.282638: I tensorflow/core/common_runtime/pluggable_device/pluggable_device_factory.cc:269] Created TensorFlow device (/device:GPU:0 with 0 MB memory) -> physical PluggableDevice (device: 0, name: METAL, pci bus id: <undefined>)\n"
     ]
    }
   ],
   "source": [
    "if tf.test.is_gpu_available():\n",
    "    print(\"GPU is available and in use.\")\n",
    "else:\n",
    "    print(\"No GPU found, using CPU.\")"
   ]
  },
  {
   "cell_type": "markdown",
   "metadata": {},
   "source": [
    "## Create necessary project folders\n"
   ]
  },
  {
   "cell_type": "code",
   "execution_count": 3,
   "metadata": {},
   "outputs": [
    {
     "name": "stdout",
     "output_type": "stream",
     "text": [
      "Folder 'Landmark Models' already exists at ./Landmark Models\n",
      "Folder 'Landmark History' already exists at ./Landmark History\n",
      "Folder 'Landmark Result' already exists at ./Landmark Result\n",
      "Folder 'Landmark Tuning' already exists at ./Landmark Tuning\n"
     ]
    }
   ],
   "source": [
    "# Input list of folder names\n",
    "models_folder = \"Landmark Models\"\n",
    "history_folder = \"Landmark History\"\n",
    "result_folder = \"Landmark Result\"\n",
    "tuning_folder = \"Landmark Tuning\"\n",
    "data_folder = \"Training Landmarks Data\"\n",
    "folder_names = [models_folder, history_folder, result_folder, tuning_folder]\n",
    "\n",
    "for folder_name in folder_names:\n",
    "    folder_path = os.path.join(\".\", folder_name)\n",
    "    try:\n",
    "        os.mkdir(folder_path)\n",
    "        print(f\"Folder '{folder_name}' created at {folder_path}\")\n",
    "    except FileExistsError:\n",
    "        print(f\"Folder '{folder_name}' already exists at {folder_path}\")"
   ]
  },
  {
   "cell_type": "code",
   "execution_count": null,
   "metadata": {},
   "outputs": [],
   "source": [
    "# # Split Data\n",
    "# # ├── Test\n",
    "# # │   ├── manipulated\n",
    "# # │   └── original\n",
    "# # ├── Training\n",
    "# # │   ├── manipulated\n",
    "# # │   └── original\n",
    "# # └── Validation\n",
    "# #     ├── manipulated\n",
    "# #     └── original\n",
    "\n",
    "# # Check if the dataset directory is already present to avoid redundant read and writes\n",
    "# isExist = os.path.exists(\"./\" + data_folder + \"/\")\n",
    "\n",
    "# if not isExist:\n",
    "#     # Creates the appropriate directory structures for training, validation and test sets.\n",
    "#     try:\n",
    "#         shutil.rmtree(\"./\" + data_folder + \"/\")\n",
    "#     except:\n",
    "#         pass  # Split Data didn't exist\n",
    "\n",
    "#     os.mkdir(\"./Split Data\")\n",
    "#     cdf = {\n",
    "#         \"Training\": 0.7,\n",
    "#         \"Validation\": 0.85,\n",
    "#         \"Test\": 1,\n",
    "#     }  # OBS! Has to be increment percentages of 5 to make batch size fit\n",
    "#     for dir in list(cdf.keys()):\n",
    "#         os.mkdir(\"./\" + data_folder + \"/{}\".format(dir))\n",
    "#         os.mkdir(\"./\" + data_folder + \"/{}/manipulated\".format(dir))\n",
    "#         os.mkdir(\"./\" + data_folder + \"/{}/original\".format(dir))\n",
    "# else:\n",
    "#     print(\"Dataset directory already exists!\")"
   ]
  },
  {
   "cell_type": "markdown",
   "metadata": {},
   "source": [
    "## Models we want to train\n"
   ]
  },
  {
   "cell_type": "code",
   "execution_count": 4,
   "metadata": {},
   "outputs": [
    {
     "name": "stderr",
     "output_type": "stream",
     "text": [
      "2024-01-17 23:49:34.099474: I tensorflow/core/common_runtime/pluggable_device/pluggable_device_factory.cc:303] Could not identify NUMA node of platform GPU ID 0, defaulting to 0. Your kernel may not have been built with NUMA support.\n",
      "2024-01-17 23:49:34.099501: I tensorflow/core/common_runtime/pluggable_device/pluggable_device_factory.cc:269] Created TensorFlow device (/job:localhost/replica:0/task:0/device:GPU:0 with 0 MB memory) -> physical PluggableDevice (device: 0, name: METAL, pci bus id: <undefined>)\n"
     ]
    },
    {
     "name": "stdout",
     "output_type": "stream",
     "text": [
      "Model: \"sequential\"\n",
      "_________________________________________________________________\n",
      " Layer (type)                Output Shape              Param #   \n",
      "=================================================================\n",
      " efficientnetb0 (Functional  (None, 1280)              4049571   \n",
      " )                                                               \n",
      "                                                                 \n",
      " flatten (Flatten)           (None, 1280)              0         \n",
      "                                                                 \n",
      " dense (Dense)               (None, 2)                 2562      \n",
      "                                                                 \n",
      " dense_1 (Dense)             (None, 2)                 6         \n",
      "                                                                 \n",
      "=================================================================\n",
      "Total params: 4052139 (15.46 MB)\n",
      "Trainable params: 4010116 (15.30 MB)\n",
      "Non-trainable params: 42023 (164.16 KB)\n",
      "_________________________________________________________________\n"
     ]
    },
    {
     "name": "stderr",
     "output_type": "stream",
     "text": [
      "WARNING:absl:At this time, the v2.11+ optimizer `tf.keras.optimizers.Adam` runs slowly on M1/M2 Macs, please use the legacy Keras optimizer instead, located at `tf.keras.optimizers.legacy.Adam`.\n",
      "WARNING:absl:There is a known slowdown when using v2.11+ Keras optimizers on M1/M2 Macs. Falling back to the legacy Keras optimizer, i.e., `tf.keras.optimizers.legacy.Adam`.\n"
     ]
    },
    {
     "name": "stdout",
     "output_type": "stream",
     "text": [
      "Model: \"sequential_1\"\n",
      "_________________________________________________________________\n",
      " Layer (type)                Output Shape              Param #   \n",
      "=================================================================\n",
      " efficientnetb1 (Functional  (None, 1280)              6575239   \n",
      " )                                                               \n",
      "                                                                 \n",
      " flatten_1 (Flatten)         (None, 1280)              0         \n",
      "                                                                 \n",
      " dense_2 (Dense)             (None, 2)                 2562      \n",
      "                                                                 \n",
      " dense_3 (Dense)             (None, 2)                 6         \n",
      "                                                                 \n",
      "=================================================================\n",
      "Total params: 6577807 (25.09 MB)\n",
      "Trainable params: 6515752 (24.86 MB)\n",
      "Non-trainable params: 62055 (242.41 KB)\n",
      "_________________________________________________________________\n"
     ]
    },
    {
     "name": "stderr",
     "output_type": "stream",
     "text": [
      "WARNING:absl:At this time, the v2.11+ optimizer `tf.keras.optimizers.Adam` runs slowly on M1/M2 Macs, please use the legacy Keras optimizer instead, located at `tf.keras.optimizers.legacy.Adam`.\n",
      "WARNING:absl:There is a known slowdown when using v2.11+ Keras optimizers on M1/M2 Macs. Falling back to the legacy Keras optimizer, i.e., `tf.keras.optimizers.legacy.Adam`.\n"
     ]
    },
    {
     "name": "stdout",
     "output_type": "stream",
     "text": [
      "Model: \"sequential_2\"\n",
      "_________________________________________________________________\n",
      " Layer (type)                Output Shape              Param #   \n",
      "=================================================================\n",
      " efficientnetb2 (Functional  (None, 1408)              7768569   \n",
      " )                                                               \n",
      "                                                                 \n",
      " flatten_2 (Flatten)         (None, 1408)              0         \n",
      "                                                                 \n",
      " dense_4 (Dense)             (None, 2)                 2818      \n",
      "                                                                 \n",
      " dense_5 (Dense)             (None, 2)                 6         \n",
      "                                                                 \n",
      "=================================================================\n",
      "Total params: 7771393 (29.65 MB)\n",
      "Trainable params: 7703818 (29.39 MB)\n",
      "Non-trainable params: 67575 (263.97 KB)\n",
      "_________________________________________________________________\n"
     ]
    },
    {
     "name": "stderr",
     "output_type": "stream",
     "text": [
      "WARNING:absl:At this time, the v2.11+ optimizer `tf.keras.optimizers.Adam` runs slowly on M1/M2 Macs, please use the legacy Keras optimizer instead, located at `tf.keras.optimizers.legacy.Adam`.\n",
      "WARNING:absl:There is a known slowdown when using v2.11+ Keras optimizers on M1/M2 Macs. Falling back to the legacy Keras optimizer, i.e., `tf.keras.optimizers.legacy.Adam`.\n"
     ]
    },
    {
     "name": "stdout",
     "output_type": "stream",
     "text": [
      "Model: \"sequential_3\"\n",
      "_________________________________________________________________\n",
      " Layer (type)                Output Shape              Param #   \n",
      "=================================================================\n",
      " efficientnetb3 (Functional  (None, 1536)              10783535  \n",
      " )                                                               \n",
      "                                                                 \n",
      " flatten_3 (Flatten)         (None, 1536)              0         \n",
      "                                                                 \n",
      " dense_6 (Dense)             (None, 2)                 3074      \n",
      "                                                                 \n",
      " dense_7 (Dense)             (None, 2)                 6         \n",
      "                                                                 \n",
      "=================================================================\n",
      "Total params: 10786615 (41.15 MB)\n",
      "Trainable params: 10699312 (40.81 MB)\n",
      "Non-trainable params: 87303 (341.03 KB)\n",
      "_________________________________________________________________\n"
     ]
    },
    {
     "name": "stderr",
     "output_type": "stream",
     "text": [
      "WARNING:absl:At this time, the v2.11+ optimizer `tf.keras.optimizers.Adam` runs slowly on M1/M2 Macs, please use the legacy Keras optimizer instead, located at `tf.keras.optimizers.legacy.Adam`.\n",
      "WARNING:absl:There is a known slowdown when using v2.11+ Keras optimizers on M1/M2 Macs. Falling back to the legacy Keras optimizer, i.e., `tf.keras.optimizers.legacy.Adam`.\n"
     ]
    }
   ],
   "source": [
    "model_list = [\n",
    "    \"EfficientNetB0\",\n",
    "    \"EfficientNetB1\",\n",
    "    \"EfficientNetB2\",\n",
    "    \"EfficientNetB3\",\n",
    "]\n",
    "\n",
    "models = {}\n",
    "for model_type in model_list:\n",
    "    size = input_size(model_type)\n",
    "    models[model_type] = build_model(model_type, (size, size, 3))"
   ]
  },
  {
   "cell_type": "markdown",
   "metadata": {},
   "source": [
    "### Training the models"
   ]
  },
  {
   "cell_type": "code",
   "execution_count": 5,
   "metadata": {},
   "outputs": [
    {
     "name": "stdout",
     "output_type": "stream",
     "text": [
      "Found 122470 images belonging to 2 classes.\n",
      "Found 32400 images belonging to 2 classes.\n",
      "Model: \"sequential\"\n",
      "_________________________________________________________________\n",
      " Layer (type)                Output Shape              Param #   \n",
      "=================================================================\n",
      " efficientnetb0 (Functional  (None, 1280)              4049571   \n",
      " )                                                               \n",
      "                                                                 \n",
      " flatten (Flatten)           (None, 1280)              0         \n",
      "                                                                 \n",
      " dense (Dense)               (None, 2)                 2562      \n",
      "                                                                 \n",
      " dense_1 (Dense)             (None, 2)                 6         \n",
      "                                                                 \n",
      "=================================================================\n",
      "Total params: 4052139 (15.46 MB)\n",
      "Trainable params: 4010116 (15.30 MB)\n",
      "Non-trainable params: 42023 (164.16 KB)\n",
      "_________________________________________________________________\n",
      "Epoch 1/20\n"
     ]
    },
    {
     "name": "stderr",
     "output_type": "stream",
     "text": [
      "2024-01-17 23:51:00.874149: I tensorflow/core/grappler/optimizers/custom_graph_optimizer_registry.cc:114] Plugin optimizer for device_type GPU is enabled.\n"
     ]
    },
    {
     "name": "stdout",
     "output_type": "stream",
     "text": [
      "7655/7655 [==============================] - ETA: 0s - loss: 0.1003 - categorical_accuracy: 0.9724"
     ]
    },
    {
     "name": "stderr",
     "output_type": "stream",
     "text": [
      "2024-01-18 00:11:56.410977: I tensorflow/core/grappler/optimizers/custom_graph_optimizer_registry.cc:114] Plugin optimizer for device_type GPU is enabled.\n",
      "/Users/dion/anaconda3/envs/fyp/lib/python3.11/site-packages/keras/src/engine/training.py:3000: UserWarning: You are saving your model as an HDF5 file via `model.save()`. This file format is considered legacy. We recommend using instead the native Keras format, e.g. `model.save('my_model.keras')`.\n",
      "  saving_api.save_model(\n"
     ]
    },
    {
     "name": "stdout",
     "output_type": "stream",
     "text": [
      "7655/7655 [==============================] - 1331s 172ms/step - loss: 0.1003 - categorical_accuracy: 0.9724 - val_loss: 0.2261 - val_categorical_accuracy: 0.9646\n",
      "Epoch 2/20\n"
     ]
    },
    {
     "name": "stderr",
     "output_type": "stream",
     "text": [
      "2024-01-18 00:13:09.179075: I tensorflow/core/grappler/optimizers/custom_graph_optimizer_registry.cc:114] Plugin optimizer for device_type GPU is enabled.\n"
     ]
    },
    {
     "name": "stdout",
     "output_type": "stream",
     "text": [
      "7655/7655 [==============================] - ETA: 0s - loss: 0.0507 - categorical_accuracy: 0.9892"
     ]
    },
    {
     "name": "stderr",
     "output_type": "stream",
     "text": [
      "2024-01-18 00:34:16.265609: I tensorflow/core/grappler/optimizers/custom_graph_optimizer_registry.cc:114] Plugin optimizer for device_type GPU is enabled.\n"
     ]
    },
    {
     "name": "stdout",
     "output_type": "stream",
     "text": [
      "7655/7655 [==============================] - 1340s 174ms/step - loss: 0.0507 - categorical_accuracy: 0.9892 - val_loss: 0.2965 - val_categorical_accuracy: 0.9631\n",
      "Epoch 3/20\n"
     ]
    },
    {
     "name": "stderr",
     "output_type": "stream",
     "text": [
      "2024-01-18 00:35:29.274733: I tensorflow/core/grappler/optimizers/custom_graph_optimizer_registry.cc:114] Plugin optimizer for device_type GPU is enabled.\n"
     ]
    },
    {
     "name": "stdout",
     "output_type": "stream",
     "text": [
      "7655/7655 [==============================] - ETA: 0s - loss: 0.0529 - categorical_accuracy: 0.9867"
     ]
    },
    {
     "name": "stderr",
     "output_type": "stream",
     "text": [
      "2024-01-18 00:56:42.061255: I tensorflow/core/grappler/optimizers/custom_graph_optimizer_registry.cc:114] Plugin optimizer for device_type GPU is enabled.\n"
     ]
    },
    {
     "name": "stdout",
     "output_type": "stream",
     "text": [
      "7655/7655 [==============================] - 1346s 175ms/step - loss: 0.0529 - categorical_accuracy: 0.9867 - val_loss: 0.1666 - val_categorical_accuracy: 0.9698\n",
      "Epoch 4/20\n"
     ]
    },
    {
     "name": "stderr",
     "output_type": "stream",
     "text": [
      "2024-01-18 00:57:54.950373: I tensorflow/core/grappler/optimizers/custom_graph_optimizer_registry.cc:114] Plugin optimizer for device_type GPU is enabled.\n"
     ]
    },
    {
     "name": "stdout",
     "output_type": "stream",
     "text": [
      "7655/7655 [==============================] - ETA: 0s - loss: 0.0470 - categorical_accuracy: 0.9852"
     ]
    },
    {
     "name": "stderr",
     "output_type": "stream",
     "text": [
      "2024-01-18 01:19:09.177961: I tensorflow/core/grappler/optimizers/custom_graph_optimizer_registry.cc:114] Plugin optimizer for device_type GPU is enabled.\n"
     ]
    },
    {
     "name": "stdout",
     "output_type": "stream",
     "text": [
      "7655/7655 [==============================] - 1348s 175ms/step - loss: 0.0470 - categorical_accuracy: 0.9852 - val_loss: 0.1816 - val_categorical_accuracy: 0.9790\n",
      "Epoch 5/20\n"
     ]
    },
    {
     "name": "stderr",
     "output_type": "stream",
     "text": [
      "2024-01-18 01:20:22.771251: I tensorflow/core/grappler/optimizers/custom_graph_optimizer_registry.cc:114] Plugin optimizer for device_type GPU is enabled.\n"
     ]
    },
    {
     "name": "stdout",
     "output_type": "stream",
     "text": [
      "7655/7655 [==============================] - ETA: 0s - loss: 0.0438 - categorical_accuracy: 0.9870"
     ]
    },
    {
     "name": "stderr",
     "output_type": "stream",
     "text": [
      "2024-01-18 01:41:50.208516: I tensorflow/core/grappler/optimizers/custom_graph_optimizer_registry.cc:114] Plugin optimizer for device_type GPU is enabled.\n"
     ]
    },
    {
     "name": "stdout",
     "output_type": "stream",
     "text": [
      "7655/7655 [==============================] - 1361s 176ms/step - loss: 0.0438 - categorical_accuracy: 0.9870 - val_loss: 0.1771 - val_categorical_accuracy: 0.9690\n",
      "Epoch 6/20\n"
     ]
    },
    {
     "name": "stderr",
     "output_type": "stream",
     "text": [
      "2024-01-18 01:43:03.881983: I tensorflow/core/grappler/optimizers/custom_graph_optimizer_registry.cc:114] Plugin optimizer for device_type GPU is enabled.\n"
     ]
    },
    {
     "name": "stdout",
     "output_type": "stream",
     "text": [
      "7655/7655 [==============================] - ETA: 0s - loss: 0.0558 - categorical_accuracy: 0.9886"
     ]
    },
    {
     "name": "stderr",
     "output_type": "stream",
     "text": [
      "2024-01-18 02:04:37.119268: I tensorflow/core/grappler/optimizers/custom_graph_optimizer_registry.cc:114] Plugin optimizer for device_type GPU is enabled.\n"
     ]
    },
    {
     "name": "stdout",
     "output_type": "stream",
     "text": [
      "7655/7655 [==============================] - 1366s 177ms/step - loss: 0.0558 - categorical_accuracy: 0.9886 - val_loss: 0.2162 - val_categorical_accuracy: 0.9726\n",
      "Epoch 7/20\n"
     ]
    },
    {
     "name": "stderr",
     "output_type": "stream",
     "text": [
      "2024-01-18 02:05:49.527470: I tensorflow/core/grappler/optimizers/custom_graph_optimizer_registry.cc:114] Plugin optimizer for device_type GPU is enabled.\n"
     ]
    },
    {
     "name": "stdout",
     "output_type": "stream",
     "text": [
      "7655/7655 [==============================] - ETA: 0s - loss: 0.0435 - categorical_accuracy: 0.9891"
     ]
    },
    {
     "name": "stderr",
     "output_type": "stream",
     "text": [
      "2024-01-18 02:27:09.037948: I tensorflow/core/grappler/optimizers/custom_graph_optimizer_registry.cc:114] Plugin optimizer for device_type GPU is enabled.\n"
     ]
    },
    {
     "name": "stdout",
     "output_type": "stream",
     "text": [
      "7655/7655 [==============================] - 1354s 176ms/step - loss: 0.0435 - categorical_accuracy: 0.9891 - val_loss: 0.2143 - val_categorical_accuracy: 0.9699\n",
      "Epoch 8/20\n"
     ]
    },
    {
     "name": "stderr",
     "output_type": "stream",
     "text": [
      "2024-01-18 02:28:23.466743: I tensorflow/core/grappler/optimizers/custom_graph_optimizer_registry.cc:114] Plugin optimizer for device_type GPU is enabled.\n"
     ]
    },
    {
     "name": "stdout",
     "output_type": "stream",
     "text": [
      "7655/7655 [==============================] - ETA: 0s - loss: 0.0341 - categorical_accuracy: 0.9892"
     ]
    },
    {
     "name": "stderr",
     "output_type": "stream",
     "text": [
      "2024-01-18 02:49:45.281971: I tensorflow/core/grappler/optimizers/custom_graph_optimizer_registry.cc:114] Plugin optimizer for device_type GPU is enabled.\n"
     ]
    },
    {
     "name": "stdout",
     "output_type": "stream",
     "text": [
      "7655/7655 [==============================] - 1352s 175ms/step - loss: 0.0341 - categorical_accuracy: 0.9892 - val_loss: 0.1469 - val_categorical_accuracy: 0.9807\n",
      "Epoch 9/20\n"
     ]
    },
    {
     "name": "stderr",
     "output_type": "stream",
     "text": [
      "2024-01-18 02:50:55.367299: I tensorflow/core/grappler/optimizers/custom_graph_optimizer_registry.cc:114] Plugin optimizer for device_type GPU is enabled.\n"
     ]
    },
    {
     "name": "stdout",
     "output_type": "stream",
     "text": [
      "7655/7655 [==============================] - ETA: 0s - loss: 0.0393 - categorical_accuracy: 0.9881"
     ]
    },
    {
     "name": "stderr",
     "output_type": "stream",
     "text": [
      "2024-01-18 03:12:16.424720: I tensorflow/core/grappler/optimizers/custom_graph_optimizer_registry.cc:114] Plugin optimizer for device_type GPU is enabled.\n"
     ]
    },
    {
     "name": "stdout",
     "output_type": "stream",
     "text": [
      "7655/7655 [==============================] - 1359s 176ms/step - loss: 0.0393 - categorical_accuracy: 0.9881 - val_loss: 0.2079 - val_categorical_accuracy: 0.9763\n",
      "Epoch 10/20\n"
     ]
    },
    {
     "name": "stderr",
     "output_type": "stream",
     "text": [
      "2024-01-18 03:13:34.236711: I tensorflow/core/grappler/optimizers/custom_graph_optimizer_registry.cc:114] Plugin optimizer for device_type GPU is enabled.\n"
     ]
    },
    {
     "name": "stdout",
     "output_type": "stream",
     "text": [
      "7655/7655 [==============================] - ETA: 0s - loss: 0.0286 - categorical_accuracy: 0.9913"
     ]
    },
    {
     "name": "stderr",
     "output_type": "stream",
     "text": [
      "2024-01-18 03:35:02.718052: I tensorflow/core/grappler/optimizers/custom_graph_optimizer_registry.cc:114] Plugin optimizer for device_type GPU is enabled.\n"
     ]
    },
    {
     "name": "stdout",
     "output_type": "stream",
     "text": [
      "7655/7655 [==============================] - 1359s 176ms/step - loss: 0.0286 - categorical_accuracy: 0.9913 - val_loss: 0.2171 - val_categorical_accuracy: 0.9613\n",
      "Epoch 11/20\n"
     ]
    },
    {
     "name": "stderr",
     "output_type": "stream",
     "text": [
      "2024-01-18 03:36:13.444225: I tensorflow/core/grappler/optimizers/custom_graph_optimizer_registry.cc:114] Plugin optimizer for device_type GPU is enabled.\n"
     ]
    },
    {
     "name": "stdout",
     "output_type": "stream",
     "text": [
      "7655/7655 [==============================] - ETA: 0s - loss: 0.0351 - categorical_accuracy: 0.9899"
     ]
    },
    {
     "name": "stderr",
     "output_type": "stream",
     "text": [
      "2024-01-18 03:57:34.744968: I tensorflow/core/grappler/optimizers/custom_graph_optimizer_registry.cc:114] Plugin optimizer for device_type GPU is enabled.\n"
     ]
    },
    {
     "name": "stdout",
     "output_type": "stream",
     "text": [
      "7655/7655 [==============================] - 1354s 175ms/step - loss: 0.0351 - categorical_accuracy: 0.9899 - val_loss: 0.1685 - val_categorical_accuracy: 0.9764\n",
      "Epoch 12/20\n"
     ]
    },
    {
     "name": "stderr",
     "output_type": "stream",
     "text": [
      "2024-01-18 03:58:47.680123: I tensorflow/core/grappler/optimizers/custom_graph_optimizer_registry.cc:114] Plugin optimizer for device_type GPU is enabled.\n"
     ]
    },
    {
     "name": "stdout",
     "output_type": "stream",
     "text": [
      "7655/7655 [==============================] - ETA: 0s - loss: 0.0271 - categorical_accuracy: 0.9910"
     ]
    },
    {
     "name": "stderr",
     "output_type": "stream",
     "text": [
      "2024-01-18 04:20:12.145513: I tensorflow/core/grappler/optimizers/custom_graph_optimizer_registry.cc:114] Plugin optimizer for device_type GPU is enabled.\n"
     ]
    },
    {
     "name": "stdout",
     "output_type": "stream",
     "text": [
      "7655/7655 [==============================] - 1356s 175ms/step - loss: 0.0271 - categorical_accuracy: 0.9910 - val_loss: 0.3076 - val_categorical_accuracy: 0.9670\n",
      "Epoch 13/20\n"
     ]
    },
    {
     "name": "stderr",
     "output_type": "stream",
     "text": [
      "2024-01-18 04:21:23.358465: I tensorflow/core/grappler/optimizers/custom_graph_optimizer_registry.cc:114] Plugin optimizer for device_type GPU is enabled.\n"
     ]
    },
    {
     "name": "stdout",
     "output_type": "stream",
     "text": [
      "7655/7655 [==============================] - ETA: 0s - loss: 0.0265 - categorical_accuracy: 0.9904"
     ]
    },
    {
     "name": "stderr",
     "output_type": "stream",
     "text": [
      "2024-01-18 04:42:46.923634: I tensorflow/core/grappler/optimizers/custom_graph_optimizer_registry.cc:114] Plugin optimizer for device_type GPU is enabled.\n"
     ]
    },
    {
     "name": "stdout",
     "output_type": "stream",
     "text": [
      "7655/7655 [==============================] - 1356s 175ms/step - loss: 0.0265 - categorical_accuracy: 0.9904 - val_loss: 0.2344 - val_categorical_accuracy: 0.9746\n",
      "Found 122470 images belonging to 2 classes.\n",
      "Found 32400 images belonging to 2 classes.\n",
      "Model: \"sequential_1\"\n",
      "_________________________________________________________________\n",
      " Layer (type)                Output Shape              Param #   \n",
      "=================================================================\n",
      " efficientnetb1 (Functional  (None, 1280)              6575239   \n",
      " )                                                               \n",
      "                                                                 \n",
      " flatten_1 (Flatten)         (None, 1280)              0         \n",
      "                                                                 \n",
      " dense_2 (Dense)             (None, 2)                 2562      \n",
      "                                                                 \n",
      " dense_3 (Dense)             (None, 2)                 6         \n",
      "                                                                 \n",
      "=================================================================\n",
      "Total params: 6577807 (25.09 MB)\n",
      "Trainable params: 6515752 (24.86 MB)\n",
      "Non-trainable params: 62055 (242.41 KB)\n",
      "_________________________________________________________________\n",
      "Epoch 1/20\n"
     ]
    },
    {
     "name": "stderr",
     "output_type": "stream",
     "text": [
      "2024-01-18 04:44:05.739532: I tensorflow/core/grappler/optimizers/custom_graph_optimizer_registry.cc:114] Plugin optimizer for device_type GPU is enabled.\n"
     ]
    },
    {
     "name": "stdout",
     "output_type": "stream",
     "text": [
      "7655/7655 [==============================] - ETA: 0s - loss: 0.0653 - categorical_accuracy: 0.9792"
     ]
    },
    {
     "name": "stderr",
     "output_type": "stream",
     "text": [
      "2024-01-18 05:16:06.133409: I tensorflow/core/grappler/optimizers/custom_graph_optimizer_registry.cc:114] Plugin optimizer for device_type GPU is enabled.\n"
     ]
    },
    {
     "name": "stdout",
     "output_type": "stream",
     "text": [
      "7655/7655 [==============================] - 2039s 263ms/step - loss: 0.0653 - categorical_accuracy: 0.9792 - val_loss: 0.1530 - val_categorical_accuracy: 0.9752\n",
      "Epoch 2/20\n"
     ]
    },
    {
     "name": "stderr",
     "output_type": "stream",
     "text": [
      "2024-01-18 05:18:00.376012: I tensorflow/core/grappler/optimizers/custom_graph_optimizer_registry.cc:114] Plugin optimizer for device_type GPU is enabled.\n"
     ]
    },
    {
     "name": "stdout",
     "output_type": "stream",
     "text": [
      "7655/7655 [==============================] - ETA: 0s - loss: 0.0148 - categorical_accuracy: 0.9952"
     ]
    },
    {
     "name": "stderr",
     "output_type": "stream",
     "text": [
      "2024-01-18 05:50:24.819252: I tensorflow/core/grappler/optimizers/custom_graph_optimizer_registry.cc:114] Plugin optimizer for device_type GPU is enabled.\n"
     ]
    },
    {
     "name": "stdout",
     "output_type": "stream",
     "text": [
      "7655/7655 [==============================] - 2056s 265ms/step - loss: 0.0148 - categorical_accuracy: 0.9952 - val_loss: 0.1696 - val_categorical_accuracy: 0.9738\n",
      "Epoch 3/20\n"
     ]
    },
    {
     "name": "stderr",
     "output_type": "stream",
     "text": [
      "2024-01-18 05:52:16.262154: I tensorflow/core/grappler/optimizers/custom_graph_optimizer_registry.cc:114] Plugin optimizer for device_type GPU is enabled.\n"
     ]
    },
    {
     "name": "stdout",
     "output_type": "stream",
     "text": [
      "7655/7655 [==============================] - ETA: 0s - loss: 0.0096 - categorical_accuracy: 0.9968"
     ]
    },
    {
     "name": "stderr",
     "output_type": "stream",
     "text": [
      "2024-01-18 06:24:38.679925: I tensorflow/core/grappler/optimizers/custom_graph_optimizer_registry.cc:114] Plugin optimizer for device_type GPU is enabled.\n"
     ]
    },
    {
     "name": "stdout",
     "output_type": "stream",
     "text": [
      "7655/7655 [==============================] - 2057s 266ms/step - loss: 0.0096 - categorical_accuracy: 0.9968 - val_loss: 0.2510 - val_categorical_accuracy: 0.9739\n",
      "Epoch 4/20\n"
     ]
    },
    {
     "name": "stderr",
     "output_type": "stream",
     "text": [
      "2024-01-18 06:26:33.304537: I tensorflow/core/grappler/optimizers/custom_graph_optimizer_registry.cc:114] Plugin optimizer for device_type GPU is enabled.\n"
     ]
    },
    {
     "name": "stdout",
     "output_type": "stream",
     "text": [
      "7655/7655 [==============================] - ETA: 0s - loss: 0.0069 - categorical_accuracy: 0.9979"
     ]
    },
    {
     "name": "stderr",
     "output_type": "stream",
     "text": [
      "2024-01-18 06:59:03.989408: I tensorflow/core/grappler/optimizers/custom_graph_optimizer_registry.cc:114] Plugin optimizer for device_type GPU is enabled.\n"
     ]
    },
    {
     "name": "stdout",
     "output_type": "stream",
     "text": [
      "7655/7655 [==============================] - 2066s 267ms/step - loss: 0.0069 - categorical_accuracy: 0.9979 - val_loss: 0.3136 - val_categorical_accuracy: 0.9710\n",
      "Epoch 5/20\n"
     ]
    },
    {
     "name": "stderr",
     "output_type": "stream",
     "text": [
      "2024-01-18 07:00:59.174339: I tensorflow/core/grappler/optimizers/custom_graph_optimizer_registry.cc:114] Plugin optimizer for device_type GPU is enabled.\n"
     ]
    },
    {
     "name": "stdout",
     "output_type": "stream",
     "text": [
      "7655/7655 [==============================] - ETA: 0s - loss: 0.0067 - categorical_accuracy: 0.9982"
     ]
    },
    {
     "name": "stderr",
     "output_type": "stream",
     "text": [
      "2024-01-18 07:33:43.951603: I tensorflow/core/grappler/optimizers/custom_graph_optimizer_registry.cc:114] Plugin optimizer for device_type GPU is enabled.\n"
     ]
    },
    {
     "name": "stdout",
     "output_type": "stream",
     "text": [
      "7655/7655 [==============================] - 2077s 267ms/step - loss: 0.0067 - categorical_accuracy: 0.9982 - val_loss: 0.3069 - val_categorical_accuracy: 0.9781\n",
      "Epoch 6/20\n"
     ]
    },
    {
     "name": "stderr",
     "output_type": "stream",
     "text": [
      "2024-01-18 07:35:36.468668: I tensorflow/core/grappler/optimizers/custom_graph_optimizer_registry.cc:114] Plugin optimizer for device_type GPU is enabled.\n"
     ]
    },
    {
     "name": "stdout",
     "output_type": "stream",
     "text": [
      "7655/7655 [==============================] - ETA: 0s - loss: 0.0051 - categorical_accuracy: 0.9984"
     ]
    },
    {
     "name": "stderr",
     "output_type": "stream",
     "text": [
      "2024-01-18 08:08:20.949722: I tensorflow/core/grappler/optimizers/custom_graph_optimizer_registry.cc:114] Plugin optimizer for device_type GPU is enabled.\n"
     ]
    },
    {
     "name": "stdout",
     "output_type": "stream",
     "text": [
      "7655/7655 [==============================] - 2084s 267ms/step - loss: 0.0051 - categorical_accuracy: 0.9984 - val_loss: 0.3007 - val_categorical_accuracy: 0.9764\n",
      "Found 122470 images belonging to 2 classes.\n",
      "Found 32400 images belonging to 2 classes.\n",
      "Model: \"sequential_2\"\n",
      "_________________________________________________________________\n",
      " Layer (type)                Output Shape              Param #   \n",
      "=================================================================\n",
      " efficientnetb2 (Functional  (None, 1408)              7768569   \n",
      " )                                                               \n",
      "                                                                 \n",
      " flatten_2 (Flatten)         (None, 1408)              0         \n",
      "                                                                 \n",
      " dense_4 (Dense)             (None, 2)                 2818      \n",
      "                                                                 \n",
      " dense_5 (Dense)             (None, 2)                 6         \n",
      "                                                                 \n",
      "=================================================================\n",
      "Total params: 7771393 (29.65 MB)\n",
      "Trainable params: 7703818 (29.39 MB)\n",
      "Non-trainable params: 67575 (263.97 KB)\n",
      "_________________________________________________________________\n",
      "Epoch 1/20\n"
     ]
    },
    {
     "name": "stderr",
     "output_type": "stream",
     "text": [
      "2024-01-18 08:10:27.873453: I tensorflow/core/grappler/optimizers/custom_graph_optimizer_registry.cc:114] Plugin optimizer for device_type GPU is enabled.\n"
     ]
    },
    {
     "name": "stdout",
     "output_type": "stream",
     "text": [
      "7655/7655 [==============================] - ETA: 0s - loss: 0.1032 - categorical_accuracy: 0.9738"
     ]
    },
    {
     "name": "stderr",
     "output_type": "stream",
     "text": [
      "2024-01-18 08:53:21.387517: I tensorflow/core/grappler/optimizers/custom_graph_optimizer_registry.cc:114] Plugin optimizer for device_type GPU is enabled.\n"
     ]
    },
    {
     "name": "stdout",
     "output_type": "stream",
     "text": [
      "7655/7655 [==============================] - 2729s 351ms/step - loss: 0.1032 - categorical_accuracy: 0.9738 - val_loss: 0.1737 - val_categorical_accuracy: 0.9776\n",
      "Epoch 2/20\n"
     ]
    },
    {
     "name": "stderr",
     "output_type": "stream",
     "text": [
      "2024-01-18 08:55:51.906111: I tensorflow/core/grappler/optimizers/custom_graph_optimizer_registry.cc:114] Plugin optimizer for device_type GPU is enabled.\n"
     ]
    },
    {
     "name": "stdout",
     "output_type": "stream",
     "text": [
      "7655/7655 [==============================] - ETA: 0s - loss: 0.0438 - categorical_accuracy: 0.9918"
     ]
    },
    {
     "name": "stderr",
     "output_type": "stream",
     "text": [
      "2024-01-18 09:37:57.492253: I tensorflow/core/grappler/optimizers/custom_graph_optimizer_registry.cc:114] Plugin optimizer for device_type GPU is enabled.\n"
     ]
    },
    {
     "name": "stdout",
     "output_type": "stream",
     "text": [
      "7655/7655 [==============================] - 2678s 344ms/step - loss: 0.0438 - categorical_accuracy: 0.9918 - val_loss: 0.1814 - val_categorical_accuracy: 0.9698\n",
      "Epoch 3/20\n"
     ]
    },
    {
     "name": "stderr",
     "output_type": "stream",
     "text": [
      "2024-01-18 09:40:29.866524: I tensorflow/core/grappler/optimizers/custom_graph_optimizer_registry.cc:114] Plugin optimizer for device_type GPU is enabled.\n"
     ]
    },
    {
     "name": "stdout",
     "output_type": "stream",
     "text": [
      "7655/7655 [==============================] - ETA: 0s - loss: 0.0407 - categorical_accuracy: 0.9935"
     ]
    },
    {
     "name": "stderr",
     "output_type": "stream",
     "text": [
      "2024-01-18 10:24:03.926549: I tensorflow/core/grappler/optimizers/custom_graph_optimizer_registry.cc:114] Plugin optimizer for device_type GPU is enabled.\n"
     ]
    },
    {
     "name": "stdout",
     "output_type": "stream",
     "text": [
      "7655/7655 [==============================] - 2783s 358ms/step - loss: 0.0407 - categorical_accuracy: 0.9935 - val_loss: 0.1645 - val_categorical_accuracy: 0.9729\n",
      "Epoch 4/20\n"
     ]
    },
    {
     "name": "stderr",
     "output_type": "stream",
     "text": [
      "2024-01-18 10:26:53.354832: I tensorflow/core/grappler/optimizers/custom_graph_optimizer_registry.cc:114] Plugin optimizer for device_type GPU is enabled.\n"
     ]
    },
    {
     "name": "stdout",
     "output_type": "stream",
     "text": [
      "7655/7655 [==============================] - ETA: 0s - loss: 0.0310 - categorical_accuracy: 0.9940"
     ]
    },
    {
     "name": "stderr",
     "output_type": "stream",
     "text": [
      "2024-01-18 11:09:40.608692: I tensorflow/core/grappler/optimizers/custom_graph_optimizer_registry.cc:114] Plugin optimizer for device_type GPU is enabled.\n"
     ]
    },
    {
     "name": "stdout",
     "output_type": "stream",
     "text": [
      "7655/7655 [==============================] - 2722s 349ms/step - loss: 0.0310 - categorical_accuracy: 0.9940 - val_loss: 0.1500 - val_categorical_accuracy: 0.9744\n",
      "Epoch 5/20\n"
     ]
    },
    {
     "name": "stderr",
     "output_type": "stream",
     "text": [
      "2024-01-18 11:12:14.911513: I tensorflow/core/grappler/optimizers/custom_graph_optimizer_registry.cc:114] Plugin optimizer for device_type GPU is enabled.\n"
     ]
    },
    {
     "name": "stdout",
     "output_type": "stream",
     "text": [
      "7655/7655 [==============================] - ETA: 0s - loss: 0.0308 - categorical_accuracy: 0.9946"
     ]
    },
    {
     "name": "stderr",
     "output_type": "stream",
     "text": [
      "2024-01-18 11:54:56.339931: I tensorflow/core/grappler/optimizers/custom_graph_optimizer_registry.cc:114] Plugin optimizer for device_type GPU is enabled.\n"
     ]
    },
    {
     "name": "stdout",
     "output_type": "stream",
     "text": [
      "7655/7655 [==============================] - 2714s 349ms/step - loss: 0.0308 - categorical_accuracy: 0.9946 - val_loss: 0.1502 - val_categorical_accuracy: 0.9761\n",
      "Epoch 6/20\n"
     ]
    },
    {
     "name": "stderr",
     "output_type": "stream",
     "text": [
      "2024-01-18 11:57:29.039418: I tensorflow/core/grappler/optimizers/custom_graph_optimizer_registry.cc:114] Plugin optimizer for device_type GPU is enabled.\n"
     ]
    },
    {
     "name": "stdout",
     "output_type": "stream",
     "text": [
      "7655/7655 [==============================] - ETA: 0s - loss: 0.0291 - categorical_accuracy: 0.9947"
     ]
    },
    {
     "name": "stderr",
     "output_type": "stream",
     "text": [
      "2024-01-18 12:42:01.255009: I tensorflow/core/grappler/optimizers/custom_graph_optimizer_registry.cc:114] Plugin optimizer for device_type GPU is enabled.\n"
     ]
    },
    {
     "name": "stdout",
     "output_type": "stream",
     "text": [
      "7655/7655 [==============================] - 2838s 367ms/step - loss: 0.0291 - categorical_accuracy: 0.9947 - val_loss: 0.1460 - val_categorical_accuracy: 0.9710\n",
      "Epoch 7/20\n"
     ]
    },
    {
     "name": "stderr",
     "output_type": "stream",
     "text": [
      "2024-01-18 12:44:47.179532: I tensorflow/core/grappler/optimizers/custom_graph_optimizer_registry.cc:114] Plugin optimizer for device_type GPU is enabled.\n"
     ]
    },
    {
     "name": "stdout",
     "output_type": "stream",
     "text": [
      "7655/7655 [==============================] - ETA: 0s - loss: 0.0294 - categorical_accuracy: 0.9946"
     ]
    },
    {
     "name": "stderr",
     "output_type": "stream",
     "text": [
      "2024-01-18 13:30:02.158367: I tensorflow/core/grappler/optimizers/custom_graph_optimizer_registry.cc:114] Plugin optimizer for device_type GPU is enabled.\n"
     ]
    },
    {
     "name": "stdout",
     "output_type": "stream",
     "text": [
      "7655/7655 [==============================] - 2881s 368ms/step - loss: 0.0294 - categorical_accuracy: 0.9946 - val_loss: 0.1174 - val_categorical_accuracy: 0.9771\n",
      "Epoch 8/20\n"
     ]
    },
    {
     "name": "stderr",
     "output_type": "stream",
     "text": [
      "2024-01-18 13:32:48.220421: I tensorflow/core/grappler/optimizers/custom_graph_optimizer_registry.cc:114] Plugin optimizer for device_type GPU is enabled.\n"
     ]
    },
    {
     "name": "stdout",
     "output_type": "stream",
     "text": [
      "7655/7655 [==============================] - ETA: 0s - loss: 0.0279 - categorical_accuracy: 0.9949"
     ]
    },
    {
     "name": "stderr",
     "output_type": "stream",
     "text": [
      "2024-01-18 14:15:20.854946: I tensorflow/core/grappler/optimizers/custom_graph_optimizer_registry.cc:114] Plugin optimizer for device_type GPU is enabled.\n"
     ]
    },
    {
     "name": "stdout",
     "output_type": "stream",
     "text": [
      "7655/7655 [==============================] - 2716s 352ms/step - loss: 0.0279 - categorical_accuracy: 0.9949 - val_loss: 0.1465 - val_categorical_accuracy: 0.9715\n",
      "Epoch 9/20\n"
     ]
    },
    {
     "name": "stderr",
     "output_type": "stream",
     "text": [
      "2024-01-18 14:18:03.810726: I tensorflow/core/grappler/optimizers/custom_graph_optimizer_registry.cc:114] Plugin optimizer for device_type GPU is enabled.\n"
     ]
    },
    {
     "name": "stdout",
     "output_type": "stream",
     "text": [
      "7655/7655 [==============================] - ETA: 0s - loss: 0.0268 - categorical_accuracy: 0.9950"
     ]
    },
    {
     "name": "stderr",
     "output_type": "stream",
     "text": [
      "2024-01-18 15:02:44.099785: I tensorflow/core/grappler/optimizers/custom_graph_optimizer_registry.cc:114] Plugin optimizer for device_type GPU is enabled.\n"
     ]
    },
    {
     "name": "stdout",
     "output_type": "stream",
     "text": [
      "7655/7655 [==============================] - 2841s 361ms/step - loss: 0.0268 - categorical_accuracy: 0.9950 - val_loss: 0.1237 - val_categorical_accuracy: 0.9696\n",
      "Epoch 10/20\n"
     ]
    },
    {
     "name": "stderr",
     "output_type": "stream",
     "text": [
      "2024-01-18 15:05:24.738217: I tensorflow/core/grappler/optimizers/custom_graph_optimizer_registry.cc:114] Plugin optimizer for device_type GPU is enabled.\n"
     ]
    },
    {
     "name": "stdout",
     "output_type": "stream",
     "text": [
      "7655/7655 [==============================] - ETA: 0s - loss: 0.0261 - categorical_accuracy: 0.9951"
     ]
    },
    {
     "name": "stderr",
     "output_type": "stream",
     "text": [
      "2024-01-18 15:50:43.590553: I tensorflow/core/grappler/optimizers/custom_graph_optimizer_registry.cc:114] Plugin optimizer for device_type GPU is enabled.\n"
     ]
    },
    {
     "name": "stdout",
     "output_type": "stream",
     "text": [
      "7655/7655 [==============================] - 2890s 371ms/step - loss: 0.0261 - categorical_accuracy: 0.9951 - val_loss: 0.1294 - val_categorical_accuracy: 0.9723\n",
      "Epoch 11/20\n"
     ]
    },
    {
     "name": "stderr",
     "output_type": "stream",
     "text": [
      "2024-01-18 15:53:35.070975: I tensorflow/core/grappler/optimizers/custom_graph_optimizer_registry.cc:114] Plugin optimizer for device_type GPU is enabled.\n"
     ]
    },
    {
     "name": "stdout",
     "output_type": "stream",
     "text": [
      "7655/7655 [==============================] - ETA: 0s - loss: 0.0253 - categorical_accuracy: 0.9953"
     ]
    },
    {
     "name": "stderr",
     "output_type": "stream",
     "text": [
      "2024-01-18 16:38:48.925964: I tensorflow/core/grappler/optimizers/custom_graph_optimizer_registry.cc:114] Plugin optimizer for device_type GPU is enabled.\n"
     ]
    },
    {
     "name": "stdout",
     "output_type": "stream",
     "text": [
      "7655/7655 [==============================] - 2874s 364ms/step - loss: 0.0253 - categorical_accuracy: 0.9953 - val_loss: 0.1370 - val_categorical_accuracy: 0.9790\n",
      "Epoch 12/20\n"
     ]
    },
    {
     "name": "stderr",
     "output_type": "stream",
     "text": [
      "2024-01-18 16:41:28.970537: I tensorflow/core/grappler/optimizers/custom_graph_optimizer_registry.cc:114] Plugin optimizer for device_type GPU is enabled.\n"
     ]
    },
    {
     "name": "stdout",
     "output_type": "stream",
     "text": [
      "7655/7655 [==============================] - ETA: 0s - loss: 0.0234 - categorical_accuracy: 0.9951"
     ]
    },
    {
     "name": "stderr",
     "output_type": "stream",
     "text": [
      "2024-01-18 17:24:34.777402: I tensorflow/core/grappler/optimizers/custom_graph_optimizer_registry.cc:114] Plugin optimizer for device_type GPU is enabled.\n"
     ]
    },
    {
     "name": "stdout",
     "output_type": "stream",
     "text": [
      "7655/7655 [==============================] - 2748s 354ms/step - loss: 0.0234 - categorical_accuracy: 0.9951 - val_loss: 0.1567 - val_categorical_accuracy: 0.9703\n",
      "Found 122470 images belonging to 2 classes.\n",
      "Found 32400 images belonging to 2 classes.\n",
      "Model: \"sequential_3\"\n",
      "_________________________________________________________________\n",
      " Layer (type)                Output Shape              Param #   \n",
      "=================================================================\n",
      " efficientnetb3 (Functional  (None, 1536)              10783535  \n",
      " )                                                               \n",
      "                                                                 \n",
      " flatten_3 (Flatten)         (None, 1536)              0         \n",
      "                                                                 \n",
      " dense_6 (Dense)             (None, 2)                 3074      \n",
      "                                                                 \n",
      " dense_7 (Dense)             (None, 2)                 6         \n",
      "                                                                 \n",
      "=================================================================\n",
      "Total params: 10786615 (41.15 MB)\n",
      "Trainable params: 10699312 (40.81 MB)\n",
      "Non-trainable params: 87303 (341.03 KB)\n",
      "_________________________________________________________________\n",
      "Epoch 1/20\n"
     ]
    },
    {
     "name": "stderr",
     "output_type": "stream",
     "text": [
      "2024-01-18 17:27:26.310434: I tensorflow/core/grappler/optimizers/custom_graph_optimizer_registry.cc:114] Plugin optimizer for device_type GPU is enabled.\n"
     ]
    },
    {
     "name": "stdout",
     "output_type": "stream",
     "text": [
      "7655/7655 [==============================] - ETA: 0s - loss: 0.0560 - categorical_accuracy: 0.9816"
     ]
    },
    {
     "name": "stderr",
     "output_type": "stream",
     "text": [
      "2024-01-18 18:40:17.194837: I tensorflow/core/grappler/optimizers/custom_graph_optimizer_registry.cc:114] Plugin optimizer for device_type GPU is enabled.\n"
     ]
    },
    {
     "name": "stdout",
     "output_type": "stream",
     "text": [
      "7655/7655 [==============================] - 4651s 594ms/step - loss: 0.0560 - categorical_accuracy: 0.9816 - val_loss: 0.1420 - val_categorical_accuracy: 0.9787\n",
      "Epoch 2/20\n"
     ]
    },
    {
     "name": "stderr",
     "output_type": "stream",
     "text": [
      "2024-01-18 18:44:51.021352: I tensorflow/core/grappler/optimizers/custom_graph_optimizer_registry.cc:114] Plugin optimizer for device_type GPU is enabled.\n"
     ]
    },
    {
     "name": "stdout",
     "output_type": "stream",
     "text": [
      "7655/7655 [==============================] - ETA: 0s - loss: 0.0155 - categorical_accuracy: 0.9950"
     ]
    },
    {
     "name": "stderr",
     "output_type": "stream",
     "text": [
      "2024-01-18 19:59:18.942147: I tensorflow/core/grappler/optimizers/custom_graph_optimizer_registry.cc:114] Plugin optimizer for device_type GPU is enabled.\n"
     ]
    },
    {
     "name": "stdout",
     "output_type": "stream",
     "text": [
      "7655/7655 [==============================] - 4727s 604ms/step - loss: 0.0155 - categorical_accuracy: 0.9950 - val_loss: 0.1619 - val_categorical_accuracy: 0.9710\n",
      "Epoch 3/20\n"
     ]
    },
    {
     "name": "stderr",
     "output_type": "stream",
     "text": [
      "2024-01-18 20:03:37.565956: I tensorflow/core/grappler/optimizers/custom_graph_optimizer_registry.cc:114] Plugin optimizer for device_type GPU is enabled.\n"
     ]
    },
    {
     "name": "stdout",
     "output_type": "stream",
     "text": [
      "7655/7655 [==============================] - ETA: 0s - loss: 0.0105 - categorical_accuracy: 0.9966"
     ]
    },
    {
     "name": "stderr",
     "output_type": "stream",
     "text": [
      "2024-01-18 21:19:09.807970: I tensorflow/core/grappler/optimizers/custom_graph_optimizer_registry.cc:114] Plugin optimizer for device_type GPU is enabled.\n"
     ]
    },
    {
     "name": "stdout",
     "output_type": "stream",
     "text": [
      "7655/7655 [==============================] - 4811s 615ms/step - loss: 0.0105 - categorical_accuracy: 0.9966 - val_loss: 0.2406 - val_categorical_accuracy: 0.9646\n",
      "Epoch 4/20\n"
     ]
    },
    {
     "name": "stderr",
     "output_type": "stream",
     "text": [
      "2024-01-18 21:23:48.853172: I tensorflow/core/grappler/optimizers/custom_graph_optimizer_registry.cc:114] Plugin optimizer for device_type GPU is enabled.\n"
     ]
    },
    {
     "name": "stdout",
     "output_type": "stream",
     "text": [
      "7655/7655 [==============================] - ETA: 0s - loss: 0.0075 - categorical_accuracy: 0.9976"
     ]
    },
    {
     "name": "stderr",
     "output_type": "stream",
     "text": [
      "2024-01-18 22:37:11.257018: I tensorflow/core/grappler/optimizers/custom_graph_optimizer_registry.cc:114] Plugin optimizer for device_type GPU is enabled.\n"
     ]
    },
    {
     "name": "stdout",
     "output_type": "stream",
     "text": [
      "7655/7655 [==============================] - 4684s 604ms/step - loss: 0.0075 - categorical_accuracy: 0.9976 - val_loss: 0.2764 - val_categorical_accuracy: 0.9727\n",
      "Epoch 5/20\n"
     ]
    },
    {
     "name": "stderr",
     "output_type": "stream",
     "text": [
      "2024-01-18 22:41:53.054664: I tensorflow/core/grappler/optimizers/custom_graph_optimizer_registry.cc:114] Plugin optimizer for device_type GPU is enabled.\n"
     ]
    },
    {
     "name": "stdout",
     "output_type": "stream",
     "text": [
      "7655/7655 [==============================] - ETA: 0s - loss: 0.0066 - categorical_accuracy: 0.9982"
     ]
    },
    {
     "name": "stderr",
     "output_type": "stream",
     "text": [
      "2024-01-18 23:57:48.138575: I tensorflow/core/grappler/optimizers/custom_graph_optimizer_registry.cc:114] Plugin optimizer for device_type GPU is enabled.\n"
     ]
    },
    {
     "name": "stdout",
     "output_type": "stream",
     "text": [
      "7655/7655 [==============================] - 4814s 613ms/step - loss: 0.0066 - categorical_accuracy: 0.9982 - val_loss: 0.2393 - val_categorical_accuracy: 0.9653\n",
      "Epoch 6/20\n"
     ]
    },
    {
     "name": "stderr",
     "output_type": "stream",
     "text": [
      "2024-01-19 00:02:06.695886: I tensorflow/core/grappler/optimizers/custom_graph_optimizer_registry.cc:114] Plugin optimizer for device_type GPU is enabled.\n"
     ]
    },
    {
     "name": "stdout",
     "output_type": "stream",
     "text": [
      "7655/7655 [==============================] - ETA: 0s - loss: 0.0057 - categorical_accuracy: 0.9983"
     ]
    },
    {
     "name": "stderr",
     "output_type": "stream",
     "text": [
      "2024-01-19 01:12:55.221466: I tensorflow/core/grappler/optimizers/custom_graph_optimizer_registry.cc:114] Plugin optimizer for device_type GPU is enabled.\n"
     ]
    },
    {
     "name": "stdout",
     "output_type": "stream",
     "text": [
      "7655/7655 [==============================] - 4509s 583ms/step - loss: 0.0057 - categorical_accuracy: 0.9983 - val_loss: 0.1830 - val_categorical_accuracy: 0.9700\n",
      "Models that failed training:\n"
     ]
    }
   ],
   "source": [
    "from tensorflow.keras.applications import efficientnet as efn\n",
    "\n",
    "# Specify the path to the train and validation data\n",
    "trainpath = os.path.join(\".\", data_folder, \"Training\")\n",
    "valpath = os.path.join(\".\", data_folder, \"Validation\")\n",
    "\n",
    "# constant fields\n",
    "BATCH_SIZE = 16\n",
    "EPOCHS = 20\n",
    "\n",
    "models_fit_history = {}\n",
    "models_result = {}\n",
    "models_failed = []\n",
    "\n",
    "# Train the models\n",
    "for model_type in model_list:\n",
    "    error_flag = False\n",
    "    imgsize = input_size(model_type)\n",
    "\n",
    "    # Check if the model is already trained to avoid redundant processing\n",
    "    if not os.path.exists(os.path.join(\".\", models_folder, model_type + \".hdf5\")):\n",
    "        # Load data and preprocess it\n",
    "        train_datagen = ImageDataGenerator(\n",
    "            preprocessing_function=efn.preprocess_input\n",
    "        )\n",
    "\n",
    "        train_gen = train_datagen.flow_from_directory(\n",
    "            trainpath,\n",
    "            target_size=(imgsize, imgsize),\n",
    "            batch_size=BATCH_SIZE,\n",
    "            class_mode=\"categorical\",\n",
    "        )\n",
    "        val_gen = train_datagen.flow_from_directory(\n",
    "            valpath,\n",
    "            target_size=(imgsize, imgsize),\n",
    "            batch_size=BATCH_SIZE,\n",
    "            class_mode=\"categorical\",\n",
    "        )\n",
    "\n",
    "        # load model\n",
    "        model = models[model_type]\n",
    "        model.summary()\n",
    "\n",
    "        # callbacks for early stopping and saving the best model so far based on validation loss for each epoch\n",
    "        cb_early_stopper = EarlyStopping(monitor=\"val_loss\", patience=5)\n",
    "        cb_checkpointer = ModelCheckpoint(\n",
    "            filepath=os.path.join(\".\", models_folder, model_type + \".hdf5\"),\n",
    "            monitor=\"val_loss\",\n",
    "            save_best_only=True,\n",
    "            mode=\"auto\",\n",
    "        )\n",
    "\n",
    "        try:\n",
    "            # train model\n",
    "            fit_history = model.fit(\n",
    "                train_gen,\n",
    "                epochs=EPOCHS,\n",
    "                validation_data=val_gen,\n",
    "                callbacks=[\n",
    "                    cb_checkpointer,\n",
    "                    cb_early_stopper,\n",
    "                    ClearMemory(),\n",
    "                ],  # ClearMemory() is a custom callback to clear memory after each epoch to avoid memory leak\n",
    "            )\n",
    "\n",
    "            models_fit_history[model_type] = fit_history\n",
    "        except Exception as e:\n",
    "            models_failed.append(model_type)\n",
    "            error_flag = True\n",
    "            print(\"Encountered error while training:\", e)\n",
    "\n",
    "        history_df = pd.DataFrame(models_fit_history[model_type].history)\n",
    "        os.path.join(\".\", history_folder, model_type + \".hdf5\")\n",
    "        history_df.to_csv(\n",
    "            os.path.join(\".\", history_folder, model_type + \"_history_landmarks.csv\"), index=False\n",
    "        )\n",
    "\n",
    "    # Load the model from disk if it is already trained\n",
    "    else:\n",
    "        imgsize = input_size(model_type)\n",
    "        model = build_model(model_type, (imgsize, imgsize, 3))\n",
    "        model_path = os.path.join(\".\", models_folder, model_type + \"_landmarks.hdf5\")\n",
    "        model.load_weights(model_path)\n",
    "        print(\"Loaded model {} from disk\".format(model_type))\n",
    "\n",
    "    # Skip testing if there was an error in training the model\n",
    "    if error_flag:\n",
    "        continue\n",
    "\n",
    "    gc.collect()\n",
    "    k.clear_session()\n",
    "\n",
    "if len(models_failed) == 0:\n",
    "    print(\"Models that failed training:\")\n",
    "    for fail in models_failed:\n",
    "        print(\"\\t\" + fail)\n",
    "else:\n",
    "    print(\"All models have been initialised!\")"
   ]
  },
  {
   "cell_type": "code",
   "execution_count": 6,
   "metadata": {},
   "outputs": [
    {
     "name": "stdout",
     "output_type": "stream",
     "text": [
      "Starting prediction for EfficientNetB0\n",
      "Found 42144 images belonging to 2 classes.\n",
      "Model: \"sequential\"\n",
      "_________________________________________________________________\n",
      " Layer (type)                Output Shape              Param #   \n",
      "=================================================================\n",
      " efficientnetb0 (Functional  (None, 1280)              4049571   \n",
      " )                                                               \n",
      "                                                                 \n",
      " flatten (Flatten)           (None, 1280)              0         \n",
      "                                                                 \n",
      " dense (Dense)               (None, 2)                 2562      \n",
      "                                                                 \n",
      " dense_1 (Dense)             (None, 2)                 6         \n",
      "                                                                 \n",
      "=================================================================\n",
      "Total params: 4052139 (15.46 MB)\n",
      "Trainable params: 4010116 (15.30 MB)\n",
      "Non-trainable params: 42023 (164.16 KB)\n",
      "_________________________________________________________________\n"
     ]
    },
    {
     "name": "stderr",
     "output_type": "stream",
     "text": [
      "WARNING:absl:At this time, the v2.11+ optimizer `tf.keras.optimizers.Adam` runs slowly on M1/M2 Macs, please use the legacy Keras optimizer instead, located at `tf.keras.optimizers.legacy.Adam`.\n",
      "WARNING:absl:There is a known slowdown when using v2.11+ Keras optimizers on M1/M2 Macs. Falling back to the legacy Keras optimizer, i.e., `tf.keras.optimizers.legacy.Adam`.\n"
     ]
    },
    {
     "name": "stdout",
     "output_type": "stream",
     "text": [
      "Loaded model EfficientNetB0 from disk\n"
     ]
    },
    {
     "name": "stderr",
     "output_type": "stream",
     "text": [
      "2024-01-19 01:21:19.754548: I tensorflow/core/grappler/optimizers/custom_graph_optimizer_registry.cc:114] Plugin optimizer for device_type GPU is enabled.\n"
     ]
    },
    {
     "name": "stdout",
     "output_type": "stream",
     "text": [
      "2634/2634 [==============================] - 103s 34ms/step\n",
      "Model Accuracy:  0.9727126044039484\n",
      "Model Precision:  0.9590745690847082\n",
      "Model Recall:  0.9875664388762339\n",
      "AUC:  0.9727126044039484 \n",
      "\n",
      "Starting prediction for EfficientNetB1\n",
      "Found 42144 images belonging to 2 classes.\n",
      "Model: \"sequential_1\"\n",
      "_________________________________________________________________\n",
      " Layer (type)                Output Shape              Param #   \n",
      "=================================================================\n",
      " efficientnetb1 (Functional  (None, 1280)              6575239   \n",
      " )                                                               \n",
      "                                                                 \n",
      " flatten_1 (Flatten)         (None, 1280)              0         \n",
      "                                                                 \n",
      " dense_2 (Dense)             (None, 2)                 2562      \n",
      "                                                                 \n",
      " dense_3 (Dense)             (None, 2)                 6         \n",
      "                                                                 \n",
      "=================================================================\n",
      "Total params: 6577807 (25.09 MB)\n",
      "Trainable params: 6515752 (24.86 MB)\n",
      "Non-trainable params: 62055 (242.41 KB)\n",
      "_________________________________________________________________\n"
     ]
    },
    {
     "name": "stderr",
     "output_type": "stream",
     "text": [
      "WARNING:absl:At this time, the v2.11+ optimizer `tf.keras.optimizers.Adam` runs slowly on M1/M2 Macs, please use the legacy Keras optimizer instead, located at `tf.keras.optimizers.legacy.Adam`.\n",
      "WARNING:absl:There is a known slowdown when using v2.11+ Keras optimizers on M1/M2 Macs. Falling back to the legacy Keras optimizer, i.e., `tf.keras.optimizers.legacy.Adam`.\n"
     ]
    },
    {
     "name": "stdout",
     "output_type": "stream",
     "text": [
      "Loaded model EfficientNetB1 from disk\n"
     ]
    },
    {
     "name": "stderr",
     "output_type": "stream",
     "text": [
      "2024-01-19 01:23:07.523580: I tensorflow/core/grappler/optimizers/custom_graph_optimizer_registry.cc:114] Plugin optimizer for device_type GPU is enabled.\n"
     ]
    },
    {
     "name": "stdout",
     "output_type": "stream",
     "text": [
      "2634/2634 [==============================] - 153s 54ms/step\n",
      "Model Accuracy:  0.9685839028094153\n",
      "Model Precision:  0.9507440883776135\n",
      "Model Recall:  0.9883731966590736\n",
      "AUC:  0.9685839028094153 \n",
      "\n",
      "Starting prediction for EfficientNetB2\n",
      "Found 42144 images belonging to 2 classes.\n",
      "Model: \"sequential_2\"\n",
      "_________________________________________________________________\n",
      " Layer (type)                Output Shape              Param #   \n",
      "=================================================================\n",
      " efficientnetb2 (Functional  (None, 1408)              7768569   \n",
      " )                                                               \n",
      "                                                                 \n",
      " flatten_2 (Flatten)         (None, 1408)              0         \n",
      "                                                                 \n",
      " dense_4 (Dense)             (None, 2)                 2818      \n",
      "                                                                 \n",
      " dense_5 (Dense)             (None, 2)                 6         \n",
      "                                                                 \n",
      "=================================================================\n",
      "Total params: 7771393 (29.65 MB)\n",
      "Trainable params: 7703818 (29.39 MB)\n",
      "Non-trainable params: 67575 (263.97 KB)\n",
      "_________________________________________________________________\n"
     ]
    },
    {
     "name": "stderr",
     "output_type": "stream",
     "text": [
      "WARNING:absl:At this time, the v2.11+ optimizer `tf.keras.optimizers.Adam` runs slowly on M1/M2 Macs, please use the legacy Keras optimizer instead, located at `tf.keras.optimizers.legacy.Adam`.\n",
      "WARNING:absl:There is a known slowdown when using v2.11+ Keras optimizers on M1/M2 Macs. Falling back to the legacy Keras optimizer, i.e., `tf.keras.optimizers.legacy.Adam`.\n"
     ]
    },
    {
     "name": "stdout",
     "output_type": "stream",
     "text": [
      "Loaded model EfficientNetB2 from disk\n"
     ]
    },
    {
     "name": "stderr",
     "output_type": "stream",
     "text": [
      "2024-01-19 01:25:45.578088: I tensorflow/core/grappler/optimizers/custom_graph_optimizer_registry.cc:114] Plugin optimizer for device_type GPU is enabled.\n"
     ]
    },
    {
     "name": "stdout",
     "output_type": "stream",
     "text": [
      "2634/2634 [==============================] - 3941s 1s/step\n",
      "Model Accuracy:  0.9697228549734245\n",
      "Model Precision:  0.9672835426305354\n",
      "Model Recall:  0.972332953682612\n",
      "AUC:  0.9697228549734244 \n",
      "\n",
      "Starting prediction for EfficientNetB3\n",
      "Found 42144 images belonging to 2 classes.\n",
      "Model: \"sequential_3\"\n",
      "_________________________________________________________________\n",
      " Layer (type)                Output Shape              Param #   \n",
      "=================================================================\n",
      " efficientnetb3 (Functional  (None, 1536)              10783535  \n",
      " )                                                               \n",
      "                                                                 \n",
      " flatten_3 (Flatten)         (None, 1536)              0         \n",
      "                                                                 \n",
      " dense_6 (Dense)             (None, 2)                 3074      \n",
      "                                                                 \n",
      " dense_7 (Dense)             (None, 2)                 6         \n",
      "                                                                 \n",
      "=================================================================\n",
      "Total params: 10786615 (41.15 MB)\n",
      "Trainable params: 10699312 (40.81 MB)\n",
      "Non-trainable params: 87303 (341.03 KB)\n",
      "_________________________________________________________________\n"
     ]
    },
    {
     "name": "stderr",
     "output_type": "stream",
     "text": [
      "WARNING:absl:At this time, the v2.11+ optimizer `tf.keras.optimizers.Adam` runs slowly on M1/M2 Macs, please use the legacy Keras optimizer instead, located at `tf.keras.optimizers.legacy.Adam`.\n",
      "WARNING:absl:There is a known slowdown when using v2.11+ Keras optimizers on M1/M2 Macs. Falling back to the legacy Keras optimizer, i.e., `tf.keras.optimizers.legacy.Adam`.\n"
     ]
    },
    {
     "name": "stdout",
     "output_type": "stream",
     "text": [
      "Loaded model EfficientNetB3 from disk\n"
     ]
    },
    {
     "name": "stderr",
     "output_type": "stream",
     "text": [
      "2024-01-19 02:47:44.147748: I tensorflow/core/grappler/optimizers/custom_graph_optimizer_registry.cc:114] Plugin optimizer for device_type GPU is enabled.\n"
     ]
    },
    {
     "name": "stdout",
     "output_type": "stream",
     "text": [
      "2634/2634 [==============================] - 32788s 12s/step\n",
      "Model Accuracy:  0.9745159453302962\n",
      "Model Precision:  0.966545352743561\n",
      "Model Recall:  0.9830580865603644\n",
      "AUC:  0.9745159453302962 \n",
      "\n"
     ]
    }
   ],
   "source": [
    "# Specify the path to the test data\n",
    "test_path = os.path.join(\".\", data_folder, \"Test\")\n",
    "\n",
    "# Test the models\n",
    "for model_type in model_list:\n",
    "    print(\"Starting prediction for\", model_type)\n",
    "    test_img_gen = ImageDataGenerator(\n",
    "        preprocessing_function=efn.preprocess_input\n",
    "    )\n",
    "\n",
    "    imgsize = input_size(model_type)\n",
    "\n",
    "    test_generator = test_img_gen.flow_from_directory(\n",
    "        directory=test_path,\n",
    "        target_size=(imgsize, imgsize),\n",
    "        batch_size=BATCH_SIZE,\n",
    "        class_mode=None,\n",
    "        shuffle=False,\n",
    "        seed=123,\n",
    "    )\n",
    "\n",
    "    model = build_model(model_type,(imgsize, imgsize, 3))\n",
    "    model_path = os.path.join(\".\", models_folder, model_type + \".hdf5\")\n",
    "    model.load_weights(model_path)\n",
    "    print(\"Loaded model {} from disk\".format(model_type))\n",
    "\n",
    "    predicted = model.predict(test_generator, steps=len(test_generator), verbose=1)\n",
    "    predicted_class_indices = np.argmax(predicted, axis=1)\n",
    "    y = test_generator.classes\n",
    "\n",
    "    Accuracy = metrics.accuracy_score(y, predicted_class_indices)\n",
    "    print(\"Model Accuracy: \", Accuracy)\n",
    "\n",
    "    Precision = metrics.precision_score(y, predicted_class_indices, average=\"binary\")\n",
    "    print(\"Model Precision: \", Precision)\n",
    "\n",
    "    Recall = metrics.recall_score(y, predicted_class_indices, average=\"binary\")\n",
    "    print(\"Model Recall: \", Recall)\n",
    "\n",
    "    Auc = metrics.roc_auc_score(y, predicted_class_indices)\n",
    "    print(\"AUC: \", Auc, \"\\n\")\n",
    "\n",
    "    models_result[model_type] = {\n",
    "        \"Accuracy\": Accuracy,\n",
    "        \"Precision\": Precision,\n",
    "        \"Recall\": Recall,\n",
    "        \"AUC\": Auc,\n",
    "    }\n",
    "\n",
    "    filenames = [os.path.split(i)[1] for i in test_generator.filenames]\n",
    "    actualLabel = [os.path.split(i)[0] for i in test_generator.filenames]\n",
    "\n",
    "    for i in range(len(actualLabel)):\n",
    "        if actualLabel[i] == \"manipulated\":\n",
    "            actualLabel[i] = \"0\"\n",
    "        else:\n",
    "            actualLabel[i] = \"1\"\n",
    "    results_df = pd.DataFrame(\n",
    "        {\n",
    "            \"id\": pd.Series(filenames),\n",
    "            \"actual label\": pd.Series(actualLabel),\n",
    "            \"pred label\": pd.Series(predicted_class_indices),\n",
    "        }\n",
    "    )\n",
    "    os.makedirs(result_folder, exist_ok=True)\n",
    "    results_df.to_csv(os.path.join(\".\", result_folder, model_type + \"_out.csv\"))\n",
    "\n",
    "with open(os.path.join(\".\", result_folder, \"landmark_model_results.json\"), \"w\") as outfile:\n",
    "    json.dump(models_result, outfile)\n",
    "\n",
    "model_prediction_results = pd.DataFrame.from_dict(models_result, orient=\"index\")\n",
    "model_prediction_results.to_csv(\n",
    "    os.path.join(\".\", result_folder, \"landmark_prediction_results.csv\")\n",
    ")"
   ]
  },
  {
   "cell_type": "code",
   "execution_count": 8,
   "metadata": {},
   "outputs": [
    {
     "data": {
      "image/svg+xml": [
       "<?xml version=\"1.0\" encoding=\"utf-8\" standalone=\"no\"?>\n",
       "<!DOCTYPE svg PUBLIC \"-//W3C//DTD SVG 1.1//EN\"\n",
       "  \"http://www.w3.org/Graphics/SVG/1.1/DTD/svg11.dtd\">\n",
       "<svg xmlns:xlink=\"http://www.w3.org/1999/xlink\" width=\"893.984375pt\" height=\"465.838125pt\" viewBox=\"0 0 893.984375 465.838125\" xmlns=\"http://www.w3.org/2000/svg\" version=\"1.1\">\n",
       " <metadata>\n",
       "  <rdf:RDF xmlns:dc=\"http://purl.org/dc/elements/1.1/\" xmlns:cc=\"http://creativecommons.org/ns#\" xmlns:rdf=\"http://www.w3.org/1999/02/22-rdf-syntax-ns#\">\n",
       "   <cc:Work>\n",
       "    <dc:type rdf:resource=\"http://purl.org/dc/dcmitype/StillImage\"/>\n",
       "    <dc:date>2024-01-22T12:18:39.125108</dc:date>\n",
       "    <dc:format>image/svg+xml</dc:format>\n",
       "    <dc:creator>\n",
       "     <cc:Agent>\n",
       "      <dc:title>Matplotlib v3.8.0, https://matplotlib.org/</dc:title>\n",
       "     </cc:Agent>\n",
       "    </dc:creator>\n",
       "   </cc:Work>\n",
       "  </rdf:RDF>\n",
       " </metadata>\n",
       " <defs>\n",
       "  <style type=\"text/css\">*{stroke-linejoin: round; stroke-linecap: butt}</style>\n",
       " </defs>\n",
       " <g id=\"figure_1\">\n",
       "  <g id=\"patch_1\">\n",
       "   <path d=\"M 0 465.838125 \n",
       "L 893.984375 465.838125 \n",
       "L 893.984375 0 \n",
       "L 0 0 \n",
       "z\n",
       "\" style=\"fill: #ffffff\"/>\n",
       "  </g>\n",
       "  <g id=\"axes_1\">\n",
       "   <g id=\"patch_2\">\n",
       "    <path d=\"M 105.009375 398.638125 \n",
       "L 734.429375 398.638125 \n",
       "L 734.429375 22.318125 \n",
       "L 105.009375 22.318125 \n",
       "z\n",
       "\" style=\"fill: #ffffff\"/>\n",
       "   </g>\n",
       "   <g id=\"table_1\">\n",
       "    <g id=\"patch_3\">\n",
       "     <path d=\"M 105.009375 410.638125 \n",
       "L 262.364375 410.638125 \n",
       "L 262.364375 398.638125 \n",
       "L 105.009375 398.638125 \n",
       "z\n",
       "\" style=\"fill: #ffffff; stroke: #000000; stroke-linejoin: miter\"/>\n",
       "    </g>\n",
       "    <g id=\"text_1\">\n",
       "     <!-- Accuracy -->\n",
       "     <g transform=\"translate(158.266563 407.319375) scale(0.1 -0.1)\">\n",
       "      <defs>\n",
       "       <path id=\"DejaVuSans-Bold-41\" d=\"M 3419 850 \n",
       "L 1538 850 \n",
       "L 1241 0 \n",
       "L 31 0 \n",
       "L 1759 4666 \n",
       "L 3194 4666 \n",
       "L 4922 0 \n",
       "L 3713 0 \n",
       "L 3419 850 \n",
       "z\n",
       "M 1838 1716 \n",
       "L 3116 1716 \n",
       "L 2478 3572 \n",
       "L 1838 1716 \n",
       "z\n",
       "\" transform=\"scale(0.015625)\"/>\n",
       "       <path id=\"DejaVuSans-Bold-63\" d=\"M 3366 3391 \n",
       "L 3366 2478 \n",
       "Q 3138 2634 2908 2709 \n",
       "Q 2678 2784 2431 2784 \n",
       "Q 1963 2784 1702 2511 \n",
       "Q 1441 2238 1441 1747 \n",
       "Q 1441 1256 1702 982 \n",
       "Q 1963 709 2431 709 \n",
       "Q 2694 709 2930 787 \n",
       "Q 3166 866 3366 1019 \n",
       "L 3366 103 \n",
       "Q 3103 6 2833 -42 \n",
       "Q 2563 -91 2291 -91 \n",
       "Q 1344 -91 809 395 \n",
       "Q 275 881 275 1747 \n",
       "Q 275 2613 809 3098 \n",
       "Q 1344 3584 2291 3584 \n",
       "Q 2566 3584 2833 3536 \n",
       "Q 3100 3488 3366 3391 \n",
       "z\n",
       "\" transform=\"scale(0.015625)\"/>\n",
       "       <path id=\"DejaVuSans-Bold-75\" d=\"M 500 1363 \n",
       "L 500 3500 \n",
       "L 1625 3500 \n",
       "L 1625 3150 \n",
       "Q 1625 2866 1622 2436 \n",
       "Q 1619 2006 1619 1863 \n",
       "Q 1619 1441 1641 1255 \n",
       "Q 1663 1069 1716 984 \n",
       "Q 1784 875 1895 815 \n",
       "Q 2006 756 2150 756 \n",
       "Q 2500 756 2700 1025 \n",
       "Q 2900 1294 2900 1772 \n",
       "L 2900 3500 \n",
       "L 4019 3500 \n",
       "L 4019 0 \n",
       "L 2900 0 \n",
       "L 2900 506 \n",
       "Q 2647 200 2364 54 \n",
       "Q 2081 -91 1741 -91 \n",
       "Q 1134 -91 817 281 \n",
       "Q 500 653 500 1363 \n",
       "z\n",
       "\" transform=\"scale(0.015625)\"/>\n",
       "       <path id=\"DejaVuSans-Bold-72\" d=\"M 3138 2547 \n",
       "Q 2991 2616 2845 2648 \n",
       "Q 2700 2681 2553 2681 \n",
       "Q 2122 2681 1889 2404 \n",
       "Q 1656 2128 1656 1613 \n",
       "L 1656 0 \n",
       "L 538 0 \n",
       "L 538 3500 \n",
       "L 1656 3500 \n",
       "L 1656 2925 \n",
       "Q 1872 3269 2151 3426 \n",
       "Q 2431 3584 2822 3584 \n",
       "Q 2878 3584 2943 3579 \n",
       "Q 3009 3575 3134 3559 \n",
       "L 3138 2547 \n",
       "z\n",
       "\" transform=\"scale(0.015625)\"/>\n",
       "       <path id=\"DejaVuSans-Bold-61\" d=\"M 2106 1575 \n",
       "Q 1756 1575 1579 1456 \n",
       "Q 1403 1338 1403 1106 \n",
       "Q 1403 894 1545 773 \n",
       "Q 1688 653 1941 653 \n",
       "Q 2256 653 2472 879 \n",
       "Q 2688 1106 2688 1447 \n",
       "L 2688 1575 \n",
       "L 2106 1575 \n",
       "z\n",
       "M 3816 1997 \n",
       "L 3816 0 \n",
       "L 2688 0 \n",
       "L 2688 519 \n",
       "Q 2463 200 2181 54 \n",
       "Q 1900 -91 1497 -91 \n",
       "Q 953 -91 614 226 \n",
       "Q 275 544 275 1050 \n",
       "Q 275 1666 698 1953 \n",
       "Q 1122 2241 2028 2241 \n",
       "L 2688 2241 \n",
       "L 2688 2328 \n",
       "Q 2688 2594 2478 2717 \n",
       "Q 2269 2841 1825 2841 \n",
       "Q 1466 2841 1156 2769 \n",
       "Q 847 2697 581 2553 \n",
       "L 581 3406 \n",
       "Q 941 3494 1303 3539 \n",
       "Q 1666 3584 2028 3584 \n",
       "Q 2975 3584 3395 3211 \n",
       "Q 3816 2838 3816 1997 \n",
       "z\n",
       "\" transform=\"scale(0.015625)\"/>\n",
       "       <path id=\"DejaVuSans-Bold-79\" d=\"M 78 3500 \n",
       "L 1197 3500 \n",
       "L 2138 1125 \n",
       "L 2938 3500 \n",
       "L 4056 3500 \n",
       "L 2584 -331 \n",
       "Q 2363 -916 2067 -1148 \n",
       "Q 1772 -1381 1288 -1381 \n",
       "L 641 -1381 \n",
       "L 641 -647 \n",
       "L 991 -647 \n",
       "Q 1275 -647 1404 -556 \n",
       "Q 1534 -466 1606 -231 \n",
       "L 1638 -134 \n",
       "L 78 3500 \n",
       "z\n",
       "\" transform=\"scale(0.015625)\"/>\n",
       "      </defs>\n",
       "      <use xlink:href=\"#DejaVuSans-Bold-41\"/>\n",
       "      <use xlink:href=\"#DejaVuSans-Bold-63\" x=\"77.392578\"/>\n",
       "      <use xlink:href=\"#DejaVuSans-Bold-63\" x=\"136.669922\"/>\n",
       "      <use xlink:href=\"#DejaVuSans-Bold-75\" x=\"195.947266\"/>\n",
       "      <use xlink:href=\"#DejaVuSans-Bold-72\" x=\"267.138672\"/>\n",
       "      <use xlink:href=\"#DejaVuSans-Bold-61\" x=\"316.455078\"/>\n",
       "      <use xlink:href=\"#DejaVuSans-Bold-63\" x=\"383.935547\"/>\n",
       "      <use xlink:href=\"#DejaVuSans-Bold-79\" x=\"443.212891\"/>\n",
       "     </g>\n",
       "    </g>\n",
       "    <g id=\"patch_4\">\n",
       "     <path d=\"M 262.364375 410.638125 \n",
       "L 419.719375 410.638125 \n",
       "L 419.719375 398.638125 \n",
       "L 262.364375 398.638125 \n",
       "z\n",
       "\" style=\"fill: #ffffff; stroke: #000000; stroke-linejoin: miter\"/>\n",
       "    </g>\n",
       "    <g id=\"text_2\">\n",
       "     <!-- Precision -->\n",
       "     <g transform=\"translate(315.1575 407.3975) scale(0.1 -0.1)\">\n",
       "      <defs>\n",
       "       <path id=\"DejaVuSans-Bold-50\" d=\"M 588 4666 \n",
       "L 2584 4666 \n",
       "Q 3475 4666 3951 4270 \n",
       "Q 4428 3875 4428 3144 \n",
       "Q 4428 2409 3951 2014 \n",
       "Q 3475 1619 2584 1619 \n",
       "L 1791 1619 \n",
       "L 1791 0 \n",
       "L 588 0 \n",
       "L 588 4666 \n",
       "z\n",
       "M 1791 3794 \n",
       "L 1791 2491 \n",
       "L 2456 2491 \n",
       "Q 2806 2491 2997 2661 \n",
       "Q 3188 2831 3188 3144 \n",
       "Q 3188 3456 2997 3625 \n",
       "Q 2806 3794 2456 3794 \n",
       "L 1791 3794 \n",
       "z\n",
       "\" transform=\"scale(0.015625)\"/>\n",
       "       <path id=\"DejaVuSans-Bold-65\" d=\"M 4031 1759 \n",
       "L 4031 1441 \n",
       "L 1416 1441 \n",
       "Q 1456 1047 1700 850 \n",
       "Q 1944 653 2381 653 \n",
       "Q 2734 653 3104 758 \n",
       "Q 3475 863 3866 1075 \n",
       "L 3866 213 \n",
       "Q 3469 63 3072 -14 \n",
       "Q 2675 -91 2278 -91 \n",
       "Q 1328 -91 801 392 \n",
       "Q 275 875 275 1747 \n",
       "Q 275 2603 792 3093 \n",
       "Q 1309 3584 2216 3584 \n",
       "Q 3041 3584 3536 3087 \n",
       "Q 4031 2591 4031 1759 \n",
       "z\n",
       "M 2881 2131 \n",
       "Q 2881 2450 2695 2645 \n",
       "Q 2509 2841 2209 2841 \n",
       "Q 1884 2841 1681 2658 \n",
       "Q 1478 2475 1428 2131 \n",
       "L 2881 2131 \n",
       "z\n",
       "\" transform=\"scale(0.015625)\"/>\n",
       "       <path id=\"DejaVuSans-Bold-69\" d=\"M 538 3500 \n",
       "L 1656 3500 \n",
       "L 1656 0 \n",
       "L 538 0 \n",
       "L 538 3500 \n",
       "z\n",
       "M 538 4863 \n",
       "L 1656 4863 \n",
       "L 1656 3950 \n",
       "L 538 3950 \n",
       "L 538 4863 \n",
       "z\n",
       "\" transform=\"scale(0.015625)\"/>\n",
       "       <path id=\"DejaVuSans-Bold-73\" d=\"M 3272 3391 \n",
       "L 3272 2541 \n",
       "Q 2913 2691 2578 2766 \n",
       "Q 2244 2841 1947 2841 \n",
       "Q 1628 2841 1473 2761 \n",
       "Q 1319 2681 1319 2516 \n",
       "Q 1319 2381 1436 2309 \n",
       "Q 1553 2238 1856 2203 \n",
       "L 2053 2175 \n",
       "Q 2913 2066 3209 1816 \n",
       "Q 3506 1566 3506 1031 \n",
       "Q 3506 472 3093 190 \n",
       "Q 2681 -91 1863 -91 \n",
       "Q 1516 -91 1145 -36 \n",
       "Q 775 19 384 128 \n",
       "L 384 978 \n",
       "Q 719 816 1070 734 \n",
       "Q 1422 653 1784 653 \n",
       "Q 2113 653 2278 743 \n",
       "Q 2444 834 2444 1013 \n",
       "Q 2444 1163 2330 1236 \n",
       "Q 2216 1309 1875 1350 \n",
       "L 1678 1375 \n",
       "Q 931 1469 631 1722 \n",
       "Q 331 1975 331 2491 \n",
       "Q 331 3047 712 3315 \n",
       "Q 1094 3584 1881 3584 \n",
       "Q 2191 3584 2531 3537 \n",
       "Q 2872 3491 3272 3391 \n",
       "z\n",
       "\" transform=\"scale(0.015625)\"/>\n",
       "       <path id=\"DejaVuSans-Bold-6f\" d=\"M 2203 2784 \n",
       "Q 1831 2784 1636 2517 \n",
       "Q 1441 2250 1441 1747 \n",
       "Q 1441 1244 1636 976 \n",
       "Q 1831 709 2203 709 \n",
       "Q 2569 709 2762 976 \n",
       "Q 2956 1244 2956 1747 \n",
       "Q 2956 2250 2762 2517 \n",
       "Q 2569 2784 2203 2784 \n",
       "z\n",
       "M 2203 3584 \n",
       "Q 3106 3584 3614 3096 \n",
       "Q 4122 2609 4122 1747 \n",
       "Q 4122 884 3614 396 \n",
       "Q 3106 -91 2203 -91 \n",
       "Q 1297 -91 786 396 \n",
       "Q 275 884 275 1747 \n",
       "Q 275 2609 786 3096 \n",
       "Q 1297 3584 2203 3584 \n",
       "z\n",
       "\" transform=\"scale(0.015625)\"/>\n",
       "       <path id=\"DejaVuSans-Bold-6e\" d=\"M 4056 2131 \n",
       "L 4056 0 \n",
       "L 2931 0 \n",
       "L 2931 347 \n",
       "L 2931 1631 \n",
       "Q 2931 2084 2911 2256 \n",
       "Q 2891 2428 2841 2509 \n",
       "Q 2775 2619 2662 2680 \n",
       "Q 2550 2741 2406 2741 \n",
       "Q 2056 2741 1856 2470 \n",
       "Q 1656 2200 1656 1722 \n",
       "L 1656 0 \n",
       "L 538 0 \n",
       "L 538 3500 \n",
       "L 1656 3500 \n",
       "L 1656 2988 \n",
       "Q 1909 3294 2193 3439 \n",
       "Q 2478 3584 2822 3584 \n",
       "Q 3428 3584 3742 3212 \n",
       "Q 4056 2841 4056 2131 \n",
       "z\n",
       "\" transform=\"scale(0.015625)\"/>\n",
       "      </defs>\n",
       "      <use xlink:href=\"#DejaVuSans-Bold-50\"/>\n",
       "      <use xlink:href=\"#DejaVuSans-Bold-72\" x=\"73.291016\"/>\n",
       "      <use xlink:href=\"#DejaVuSans-Bold-65\" x=\"122.607422\"/>\n",
       "      <use xlink:href=\"#DejaVuSans-Bold-63\" x=\"190.429688\"/>\n",
       "      <use xlink:href=\"#DejaVuSans-Bold-69\" x=\"249.707031\"/>\n",
       "      <use xlink:href=\"#DejaVuSans-Bold-73\" x=\"283.984375\"/>\n",
       "      <use xlink:href=\"#DejaVuSans-Bold-69\" x=\"343.505859\"/>\n",
       "      <use xlink:href=\"#DejaVuSans-Bold-6f\" x=\"377.783203\"/>\n",
       "      <use xlink:href=\"#DejaVuSans-Bold-6e\" x=\"446.484375\"/>\n",
       "     </g>\n",
       "    </g>\n",
       "    <g id=\"patch_5\">\n",
       "     <path d=\"M 419.719375 410.638125 \n",
       "L 577.074375 410.638125 \n",
       "L 577.074375 398.638125 \n",
       "L 419.719375 398.638125 \n",
       "z\n",
       "\" style=\"fill: #ffffff; stroke: #000000; stroke-linejoin: miter\"/>\n",
       "    </g>\n",
       "    <g id=\"text_3\">\n",
       "     <!-- Recall -->\n",
       "     <g transform=\"translate(481.389062 407.3975) scale(0.1 -0.1)\">\n",
       "      <defs>\n",
       "       <path id=\"DejaVuSans-Bold-52\" d=\"M 2297 2597 \n",
       "Q 2675 2597 2839 2737 \n",
       "Q 3003 2878 3003 3200 \n",
       "Q 3003 3519 2839 3656 \n",
       "Q 2675 3794 2297 3794 \n",
       "L 1791 3794 \n",
       "L 1791 2597 \n",
       "L 2297 2597 \n",
       "z\n",
       "M 1791 1766 \n",
       "L 1791 0 \n",
       "L 588 0 \n",
       "L 588 4666 \n",
       "L 2425 4666 \n",
       "Q 3347 4666 3776 4356 \n",
       "Q 4206 4047 4206 3378 \n",
       "Q 4206 2916 3982 2619 \n",
       "Q 3759 2322 3309 2181 \n",
       "Q 3556 2125 3751 1926 \n",
       "Q 3947 1728 4147 1325 \n",
       "L 4800 0 \n",
       "L 3519 0 \n",
       "L 2950 1159 \n",
       "Q 2778 1509 2601 1637 \n",
       "Q 2425 1766 2131 1766 \n",
       "L 1791 1766 \n",
       "z\n",
       "\" transform=\"scale(0.015625)\"/>\n",
       "       <path id=\"DejaVuSans-Bold-6c\" d=\"M 538 4863 \n",
       "L 1656 4863 \n",
       "L 1656 0 \n",
       "L 538 0 \n",
       "L 538 4863 \n",
       "z\n",
       "\" transform=\"scale(0.015625)\"/>\n",
       "      </defs>\n",
       "      <use xlink:href=\"#DejaVuSans-Bold-52\"/>\n",
       "      <use xlink:href=\"#DejaVuSans-Bold-65\" x=\"77.001953\"/>\n",
       "      <use xlink:href=\"#DejaVuSans-Bold-63\" x=\"144.824219\"/>\n",
       "      <use xlink:href=\"#DejaVuSans-Bold-61\" x=\"204.101562\"/>\n",
       "      <use xlink:href=\"#DejaVuSans-Bold-6c\" x=\"271.582031\"/>\n",
       "      <use xlink:href=\"#DejaVuSans-Bold-6c\" x=\"305.859375\"/>\n",
       "     </g>\n",
       "    </g>\n",
       "    <g id=\"patch_6\">\n",
       "     <path d=\"M 577.074375 410.638125 \n",
       "L 734.429375 410.638125 \n",
       "L 734.429375 398.638125 \n",
       "L 577.074375 398.638125 \n",
       "z\n",
       "\" style=\"fill: #ffffff; stroke: #000000; stroke-linejoin: miter\"/>\n",
       "    </g>\n",
       "    <g id=\"text_4\">\n",
       "     <!-- AUC -->\n",
       "     <g transform=\"translate(644.308906 407.3975) scale(0.1 -0.1)\">\n",
       "      <defs>\n",
       "       <path id=\"DejaVuSans-Bold-55\" d=\"M 588 4666 \n",
       "L 1791 4666 \n",
       "L 1791 1869 \n",
       "Q 1791 1291 1980 1042 \n",
       "Q 2169 794 2597 794 \n",
       "Q 3028 794 3217 1042 \n",
       "Q 3406 1291 3406 1869 \n",
       "L 3406 4666 \n",
       "L 4609 4666 \n",
       "L 4609 1869 \n",
       "Q 4609 878 4112 393 \n",
       "Q 3616 -91 2597 -91 \n",
       "Q 1581 -91 1084 393 \n",
       "Q 588 878 588 1869 \n",
       "L 588 4666 \n",
       "z\n",
       "\" transform=\"scale(0.015625)\"/>\n",
       "       <path id=\"DejaVuSans-Bold-43\" d=\"M 4288 256 \n",
       "Q 3956 84 3597 -3 \n",
       "Q 3238 -91 2847 -91 \n",
       "Q 1681 -91 1000 561 \n",
       "Q 319 1213 319 2328 \n",
       "Q 319 3447 1000 4098 \n",
       "Q 1681 4750 2847 4750 \n",
       "Q 3238 4750 3597 4662 \n",
       "Q 3956 4575 4288 4403 \n",
       "L 4288 3438 \n",
       "Q 3953 3666 3628 3772 \n",
       "Q 3303 3878 2944 3878 \n",
       "Q 2300 3878 1931 3465 \n",
       "Q 1563 3053 1563 2328 \n",
       "Q 1563 1606 1931 1193 \n",
       "Q 2300 781 2944 781 \n",
       "Q 3303 781 3628 887 \n",
       "Q 3953 994 4288 1222 \n",
       "L 4288 256 \n",
       "z\n",
       "\" transform=\"scale(0.015625)\"/>\n",
       "      </defs>\n",
       "      <use xlink:href=\"#DejaVuSans-Bold-41\"/>\n",
       "      <use xlink:href=\"#DejaVuSans-Bold-55\" x=\"74.267578\"/>\n",
       "      <use xlink:href=\"#DejaVuSans-Bold-43\" x=\"155.46875\"/>\n",
       "     </g>\n",
       "    </g>\n",
       "    <g id=\"patch_7\">\n",
       "     <path d=\"M 7.2 422.638125 \n",
       "L 105.009375 422.638125 \n",
       "L 105.009375 410.638125 \n",
       "L 7.2 410.638125 \n",
       "z\n",
       "\" style=\"fill: #ffffff; stroke: #000000; stroke-linejoin: miter\"/>\n",
       "    </g>\n",
       "    <g id=\"text_5\">\n",
       "     <!-- EfficientNetB0 -->\n",
       "     <g transform=\"translate(16.980938 419.3975) scale(0.1 -0.1)\">\n",
       "      <defs>\n",
       "       <path id=\"DejaVuSans-Bold-45\" d=\"M 588 4666 \n",
       "L 3834 4666 \n",
       "L 3834 3756 \n",
       "L 1791 3756 \n",
       "L 1791 2888 \n",
       "L 3713 2888 \n",
       "L 3713 1978 \n",
       "L 1791 1978 \n",
       "L 1791 909 \n",
       "L 3903 909 \n",
       "L 3903 0 \n",
       "L 588 0 \n",
       "L 588 4666 \n",
       "z\n",
       "\" transform=\"scale(0.015625)\"/>\n",
       "       <path id=\"DejaVuSans-Bold-66\" d=\"M 2841 4863 \n",
       "L 2841 4128 \n",
       "L 2222 4128 \n",
       "Q 1984 4128 1890 4042 \n",
       "Q 1797 3956 1797 3744 \n",
       "L 1797 3500 \n",
       "L 2753 3500 \n",
       "L 2753 2700 \n",
       "L 1797 2700 \n",
       "L 1797 0 \n",
       "L 678 0 \n",
       "L 678 2700 \n",
       "L 122 2700 \n",
       "L 122 3500 \n",
       "L 678 3500 \n",
       "L 678 3744 \n",
       "Q 678 4316 997 4589 \n",
       "Q 1316 4863 1984 4863 \n",
       "L 2841 4863 \n",
       "z\n",
       "\" transform=\"scale(0.015625)\"/>\n",
       "       <path id=\"DejaVuSans-Bold-74\" d=\"M 1759 4494 \n",
       "L 1759 3500 \n",
       "L 2913 3500 \n",
       "L 2913 2700 \n",
       "L 1759 2700 \n",
       "L 1759 1216 \n",
       "Q 1759 972 1856 886 \n",
       "Q 1953 800 2241 800 \n",
       "L 2816 800 \n",
       "L 2816 0 \n",
       "L 1856 0 \n",
       "Q 1194 0 917 276 \n",
       "Q 641 553 641 1216 \n",
       "L 641 2700 \n",
       "L 84 2700 \n",
       "L 84 3500 \n",
       "L 641 3500 \n",
       "L 641 4494 \n",
       "L 1759 4494 \n",
       "z\n",
       "\" transform=\"scale(0.015625)\"/>\n",
       "       <path id=\"DejaVuSans-Bold-4e\" d=\"M 588 4666 \n",
       "L 1931 4666 \n",
       "L 3628 1466 \n",
       "L 3628 4666 \n",
       "L 4769 4666 \n",
       "L 4769 0 \n",
       "L 3425 0 \n",
       "L 1728 3200 \n",
       "L 1728 0 \n",
       "L 588 0 \n",
       "L 588 4666 \n",
       "z\n",
       "\" transform=\"scale(0.015625)\"/>\n",
       "       <path id=\"DejaVuSans-Bold-42\" d=\"M 2456 2859 \n",
       "Q 2741 2859 2887 2984 \n",
       "Q 3034 3109 3034 3353 \n",
       "Q 3034 3594 2887 3720 \n",
       "Q 2741 3847 2456 3847 \n",
       "L 1791 3847 \n",
       "L 1791 2859 \n",
       "L 2456 2859 \n",
       "z\n",
       "M 2497 819 \n",
       "Q 2859 819 3042 972 \n",
       "Q 3225 1125 3225 1434 \n",
       "Q 3225 1738 3044 1889 \n",
       "Q 2863 2041 2497 2041 \n",
       "L 1791 2041 \n",
       "L 1791 819 \n",
       "L 2497 819 \n",
       "z\n",
       "M 3616 2497 \n",
       "Q 4003 2384 4215 2081 \n",
       "Q 4428 1778 4428 1338 \n",
       "Q 4428 663 3972 331 \n",
       "Q 3516 0 2584 0 \n",
       "L 588 0 \n",
       "L 588 4666 \n",
       "L 2394 4666 \n",
       "Q 3366 4666 3802 4372 \n",
       "Q 4238 4078 4238 3431 \n",
       "Q 4238 3091 4078 2852 \n",
       "Q 3919 2613 3616 2497 \n",
       "z\n",
       "\" transform=\"scale(0.015625)\"/>\n",
       "       <path id=\"DejaVuSans-Bold-30\" d=\"M 2944 2338 \n",
       "Q 2944 3213 2780 3570 \n",
       "Q 2616 3928 2228 3928 \n",
       "Q 1841 3928 1675 3570 \n",
       "Q 1509 3213 1509 2338 \n",
       "Q 1509 1453 1675 1090 \n",
       "Q 1841 728 2228 728 \n",
       "Q 2613 728 2778 1090 \n",
       "Q 2944 1453 2944 2338 \n",
       "z\n",
       "M 4147 2328 \n",
       "Q 4147 1169 3647 539 \n",
       "Q 3147 -91 2228 -91 \n",
       "Q 1306 -91 806 539 \n",
       "Q 306 1169 306 2328 \n",
       "Q 306 3491 806 4120 \n",
       "Q 1306 4750 2228 4750 \n",
       "Q 3147 4750 3647 4120 \n",
       "Q 4147 3491 4147 2328 \n",
       "z\n",
       "\" transform=\"scale(0.015625)\"/>\n",
       "      </defs>\n",
       "      <use xlink:href=\"#DejaVuSans-Bold-45\"/>\n",
       "      <use xlink:href=\"#DejaVuSans-Bold-66\" x=\"68.310547\"/>\n",
       "      <use xlink:href=\"#DejaVuSans-Bold-66\" x=\"111.816406\"/>\n",
       "      <use xlink:href=\"#DejaVuSans-Bold-69\" x=\"155.322266\"/>\n",
       "      <use xlink:href=\"#DejaVuSans-Bold-63\" x=\"189.599609\"/>\n",
       "      <use xlink:href=\"#DejaVuSans-Bold-69\" x=\"248.876953\"/>\n",
       "      <use xlink:href=\"#DejaVuSans-Bold-65\" x=\"283.154297\"/>\n",
       "      <use xlink:href=\"#DejaVuSans-Bold-6e\" x=\"350.976562\"/>\n",
       "      <use xlink:href=\"#DejaVuSans-Bold-74\" x=\"422.167969\"/>\n",
       "      <use xlink:href=\"#DejaVuSans-Bold-4e\" x=\"469.970703\"/>\n",
       "      <use xlink:href=\"#DejaVuSans-Bold-65\" x=\"553.662109\"/>\n",
       "      <use xlink:href=\"#DejaVuSans-Bold-74\" x=\"621.484375\"/>\n",
       "      <use xlink:href=\"#DejaVuSans-Bold-42\" x=\"669.287109\"/>\n",
       "      <use xlink:href=\"#DejaVuSans-Bold-30\" x=\"745.507812\"/>\n",
       "     </g>\n",
       "    </g>\n",
       "    <g id=\"patch_8\">\n",
       "     <path d=\"M 105.009375 422.638125 \n",
       "L 262.364375 422.638125 \n",
       "L 262.364375 410.638125 \n",
       "L 105.009375 410.638125 \n",
       "z\n",
       "\" style=\"fill: #ffffff; stroke: #000000; stroke-linejoin: miter\"/>\n",
       "    </g>\n",
       "    <g id=\"text_6\">\n",
       "     <!-- 0.9727 -->\n",
       "     <g transform=\"translate(164.393125 419.3975) scale(0.1 -0.1)\">\n",
       "      <defs>\n",
       "       <path id=\"DejaVuSans-Bold-2e\" d=\"M 653 1209 \n",
       "L 1778 1209 \n",
       "L 1778 0 \n",
       "L 653 0 \n",
       "L 653 1209 \n",
       "z\n",
       "\" transform=\"scale(0.015625)\"/>\n",
       "       <path id=\"DejaVuSans-Bold-39\" d=\"M 641 103 \n",
       "L 641 966 \n",
       "Q 928 831 1190 764 \n",
       "Q 1453 697 1709 697 \n",
       "Q 2247 697 2547 995 \n",
       "Q 2847 1294 2900 1881 \n",
       "Q 2688 1725 2447 1647 \n",
       "Q 2206 1569 1925 1569 \n",
       "Q 1209 1569 770 1986 \n",
       "Q 331 2403 331 3084 \n",
       "Q 331 3838 820 4291 \n",
       "Q 1309 4744 2131 4744 \n",
       "Q 3044 4744 3544 4128 \n",
       "Q 4044 3513 4044 2388 \n",
       "Q 4044 1231 3459 570 \n",
       "Q 2875 -91 1856 -91 \n",
       "Q 1528 -91 1228 -42 \n",
       "Q 928 6 641 103 \n",
       "z\n",
       "M 2125 2350 \n",
       "Q 2441 2350 2600 2554 \n",
       "Q 2759 2759 2759 3169 \n",
       "Q 2759 3575 2600 3781 \n",
       "Q 2441 3988 2125 3988 \n",
       "Q 1809 3988 1650 3781 \n",
       "Q 1491 3575 1491 3169 \n",
       "Q 1491 2759 1650 2554 \n",
       "Q 1809 2350 2125 2350 \n",
       "z\n",
       "\" transform=\"scale(0.015625)\"/>\n",
       "       <path id=\"DejaVuSans-Bold-37\" d=\"M 428 4666 \n",
       "L 3944 4666 \n",
       "L 3944 3988 \n",
       "L 2125 0 \n",
       "L 953 0 \n",
       "L 2675 3781 \n",
       "L 428 3781 \n",
       "L 428 4666 \n",
       "z\n",
       "\" transform=\"scale(0.015625)\"/>\n",
       "       <path id=\"DejaVuSans-Bold-32\" d=\"M 1844 884 \n",
       "L 3897 884 \n",
       "L 3897 0 \n",
       "L 506 0 \n",
       "L 506 884 \n",
       "L 2209 2388 \n",
       "Q 2438 2594 2547 2791 \n",
       "Q 2656 2988 2656 3200 \n",
       "Q 2656 3528 2436 3728 \n",
       "Q 2216 3928 1850 3928 \n",
       "Q 1569 3928 1234 3808 \n",
       "Q 900 3688 519 3450 \n",
       "L 519 4475 \n",
       "Q 925 4609 1322 4679 \n",
       "Q 1719 4750 2100 4750 \n",
       "Q 2938 4750 3402 4381 \n",
       "Q 3866 4013 3866 3353 \n",
       "Q 3866 2972 3669 2642 \n",
       "Q 3472 2313 2841 1759 \n",
       "L 1844 884 \n",
       "z\n",
       "\" transform=\"scale(0.015625)\"/>\n",
       "      </defs>\n",
       "      <use xlink:href=\"#DejaVuSans-Bold-30\"/>\n",
       "      <use xlink:href=\"#DejaVuSans-Bold-2e\" x=\"69.580078\"/>\n",
       "      <use xlink:href=\"#DejaVuSans-Bold-39\" x=\"107.568359\"/>\n",
       "      <use xlink:href=\"#DejaVuSans-Bold-37\" x=\"177.148438\"/>\n",
       "      <use xlink:href=\"#DejaVuSans-Bold-32\" x=\"246.728516\"/>\n",
       "      <use xlink:href=\"#DejaVuSans-Bold-37\" x=\"316.308594\"/>\n",
       "     </g>\n",
       "    </g>\n",
       "    <g id=\"patch_9\">\n",
       "     <path d=\"M 262.364375 422.638125 \n",
       "L 419.719375 422.638125 \n",
       "L 419.719375 410.638125 \n",
       "L 262.364375 410.638125 \n",
       "z\n",
       "\" style=\"fill: #ffffff; stroke: #000000; stroke-linejoin: miter\"/>\n",
       "    </g>\n",
       "    <g id=\"text_7\">\n",
       "     <!-- 0.9591 -->\n",
       "     <g transform=\"translate(321.748125 419.3975) scale(0.1 -0.1)\">\n",
       "      <defs>\n",
       "       <path id=\"DejaVuSans-Bold-35\" d=\"M 678 4666 \n",
       "L 3669 4666 \n",
       "L 3669 3781 \n",
       "L 1638 3781 \n",
       "L 1638 3059 \n",
       "Q 1775 3097 1914 3117 \n",
       "Q 2053 3138 2203 3138 \n",
       "Q 3056 3138 3531 2711 \n",
       "Q 4006 2284 4006 1522 \n",
       "Q 4006 766 3489 337 \n",
       "Q 2972 -91 2053 -91 \n",
       "Q 1656 -91 1267 -14 \n",
       "Q 878 63 494 219 \n",
       "L 494 1166 \n",
       "Q 875 947 1217 837 \n",
       "Q 1559 728 1863 728 \n",
       "Q 2300 728 2551 942 \n",
       "Q 2803 1156 2803 1522 \n",
       "Q 2803 1891 2551 2103 \n",
       "Q 2300 2316 1863 2316 \n",
       "Q 1603 2316 1309 2248 \n",
       "Q 1016 2181 678 2041 \n",
       "L 678 4666 \n",
       "z\n",
       "\" transform=\"scale(0.015625)\"/>\n",
       "       <path id=\"DejaVuSans-Bold-31\" d=\"M 750 831 \n",
       "L 1813 831 \n",
       "L 1813 3847 \n",
       "L 722 3622 \n",
       "L 722 4441 \n",
       "L 1806 4666 \n",
       "L 2950 4666 \n",
       "L 2950 831 \n",
       "L 4013 831 \n",
       "L 4013 0 \n",
       "L 750 0 \n",
       "L 750 831 \n",
       "z\n",
       "\" transform=\"scale(0.015625)\"/>\n",
       "      </defs>\n",
       "      <use xlink:href=\"#DejaVuSans-Bold-30\"/>\n",
       "      <use xlink:href=\"#DejaVuSans-Bold-2e\" x=\"69.580078\"/>\n",
       "      <use xlink:href=\"#DejaVuSans-Bold-39\" x=\"107.568359\"/>\n",
       "      <use xlink:href=\"#DejaVuSans-Bold-35\" x=\"177.148438\"/>\n",
       "      <use xlink:href=\"#DejaVuSans-Bold-39\" x=\"246.728516\"/>\n",
       "      <use xlink:href=\"#DejaVuSans-Bold-31\" x=\"316.308594\"/>\n",
       "     </g>\n",
       "    </g>\n",
       "    <g id=\"patch_10\">\n",
       "     <path d=\"M 419.719375 422.638125 \n",
       "L 577.074375 422.638125 \n",
       "L 577.074375 410.638125 \n",
       "L 419.719375 410.638125 \n",
       "z\n",
       "\" style=\"fill: #ffffff; stroke: #000000; stroke-linejoin: miter\"/>\n",
       "    </g>\n",
       "    <g id=\"text_8\">\n",
       "     <!-- 0.9876 -->\n",
       "     <g transform=\"translate(479.103125 419.3975) scale(0.1 -0.1)\">\n",
       "      <defs>\n",
       "       <path id=\"DejaVuSans-Bold-38\" d=\"M 2228 2088 \n",
       "Q 1891 2088 1709 1903 \n",
       "Q 1528 1719 1528 1375 \n",
       "Q 1528 1031 1709 848 \n",
       "Q 1891 666 2228 666 \n",
       "Q 2563 666 2741 848 \n",
       "Q 2919 1031 2919 1375 \n",
       "Q 2919 1722 2741 1905 \n",
       "Q 2563 2088 2228 2088 \n",
       "z\n",
       "M 1350 2484 \n",
       "Q 925 2613 709 2878 \n",
       "Q 494 3144 494 3541 \n",
       "Q 494 4131 934 4440 \n",
       "Q 1375 4750 2228 4750 \n",
       "Q 3075 4750 3515 4442 \n",
       "Q 3956 4134 3956 3541 \n",
       "Q 3956 3144 3739 2878 \n",
       "Q 3522 2613 3097 2484 \n",
       "Q 3572 2353 3814 2058 \n",
       "Q 4056 1763 4056 1313 \n",
       "Q 4056 619 3595 264 \n",
       "Q 3134 -91 2228 -91 \n",
       "Q 1319 -91 855 264 \n",
       "Q 391 619 391 1313 \n",
       "Q 391 1763 633 2058 \n",
       "Q 875 2353 1350 2484 \n",
       "z\n",
       "M 1631 3419 \n",
       "Q 1631 3141 1786 2991 \n",
       "Q 1941 2841 2228 2841 \n",
       "Q 2509 2841 2662 2991 \n",
       "Q 2816 3141 2816 3419 \n",
       "Q 2816 3697 2662 3845 \n",
       "Q 2509 3994 2228 3994 \n",
       "Q 1941 3994 1786 3844 \n",
       "Q 1631 3694 1631 3419 \n",
       "z\n",
       "\" transform=\"scale(0.015625)\"/>\n",
       "       <path id=\"DejaVuSans-Bold-36\" d=\"M 2316 2303 \n",
       "Q 2000 2303 1842 2098 \n",
       "Q 1684 1894 1684 1484 \n",
       "Q 1684 1075 1842 870 \n",
       "Q 2000 666 2316 666 \n",
       "Q 2634 666 2792 870 \n",
       "Q 2950 1075 2950 1484 \n",
       "Q 2950 1894 2792 2098 \n",
       "Q 2634 2303 2316 2303 \n",
       "z\n",
       "M 3803 4544 \n",
       "L 3803 3681 \n",
       "Q 3506 3822 3243 3889 \n",
       "Q 2981 3956 2731 3956 \n",
       "Q 2194 3956 1894 3657 \n",
       "Q 1594 3359 1544 2772 \n",
       "Q 1750 2925 1990 3001 \n",
       "Q 2231 3078 2516 3078 \n",
       "Q 3231 3078 3670 2659 \n",
       "Q 4109 2241 4109 1563 \n",
       "Q 4109 813 3618 361 \n",
       "Q 3128 -91 2303 -91 \n",
       "Q 1394 -91 895 523 \n",
       "Q 397 1138 397 2266 \n",
       "Q 397 3422 980 4083 \n",
       "Q 1563 4744 2578 4744 \n",
       "Q 2900 4744 3203 4694 \n",
       "Q 3506 4644 3803 4544 \n",
       "z\n",
       "\" transform=\"scale(0.015625)\"/>\n",
       "      </defs>\n",
       "      <use xlink:href=\"#DejaVuSans-Bold-30\"/>\n",
       "      <use xlink:href=\"#DejaVuSans-Bold-2e\" x=\"69.580078\"/>\n",
       "      <use xlink:href=\"#DejaVuSans-Bold-39\" x=\"107.568359\"/>\n",
       "      <use xlink:href=\"#DejaVuSans-Bold-38\" x=\"177.148438\"/>\n",
       "      <use xlink:href=\"#DejaVuSans-Bold-37\" x=\"246.728516\"/>\n",
       "      <use xlink:href=\"#DejaVuSans-Bold-36\" x=\"316.308594\"/>\n",
       "     </g>\n",
       "    </g>\n",
       "    <g id=\"patch_11\">\n",
       "     <path d=\"M 577.074375 422.638125 \n",
       "L 734.429375 422.638125 \n",
       "L 734.429375 410.638125 \n",
       "L 577.074375 410.638125 \n",
       "z\n",
       "\" style=\"fill: #ffffff; stroke: #000000; stroke-linejoin: miter\"/>\n",
       "    </g>\n",
       "    <g id=\"text_9\">\n",
       "     <!-- 0.9727 -->\n",
       "     <g transform=\"translate(636.458125 419.3975) scale(0.1 -0.1)\">\n",
       "      <use xlink:href=\"#DejaVuSans-Bold-30\"/>\n",
       "      <use xlink:href=\"#DejaVuSans-Bold-2e\" x=\"69.580078\"/>\n",
       "      <use xlink:href=\"#DejaVuSans-Bold-39\" x=\"107.568359\"/>\n",
       "      <use xlink:href=\"#DejaVuSans-Bold-37\" x=\"177.148438\"/>\n",
       "      <use xlink:href=\"#DejaVuSans-Bold-32\" x=\"246.728516\"/>\n",
       "      <use xlink:href=\"#DejaVuSans-Bold-37\" x=\"316.308594\"/>\n",
       "     </g>\n",
       "    </g>\n",
       "    <g id=\"patch_12\">\n",
       "     <path d=\"M 7.2 434.638125 \n",
       "L 105.009375 434.638125 \n",
       "L 105.009375 422.638125 \n",
       "L 7.2 422.638125 \n",
       "z\n",
       "\" style=\"fill: #ffffff; stroke: #000000; stroke-linejoin: miter\"/>\n",
       "    </g>\n",
       "    <g id=\"text_10\">\n",
       "     <!-- EfficientNetB1 -->\n",
       "     <g transform=\"translate(16.980938 431.3975) scale(0.1 -0.1)\">\n",
       "      <use xlink:href=\"#DejaVuSans-Bold-45\"/>\n",
       "      <use xlink:href=\"#DejaVuSans-Bold-66\" x=\"68.310547\"/>\n",
       "      <use xlink:href=\"#DejaVuSans-Bold-66\" x=\"111.816406\"/>\n",
       "      <use xlink:href=\"#DejaVuSans-Bold-69\" x=\"155.322266\"/>\n",
       "      <use xlink:href=\"#DejaVuSans-Bold-63\" x=\"189.599609\"/>\n",
       "      <use xlink:href=\"#DejaVuSans-Bold-69\" x=\"248.876953\"/>\n",
       "      <use xlink:href=\"#DejaVuSans-Bold-65\" x=\"283.154297\"/>\n",
       "      <use xlink:href=\"#DejaVuSans-Bold-6e\" x=\"350.976562\"/>\n",
       "      <use xlink:href=\"#DejaVuSans-Bold-74\" x=\"422.167969\"/>\n",
       "      <use xlink:href=\"#DejaVuSans-Bold-4e\" x=\"469.970703\"/>\n",
       "      <use xlink:href=\"#DejaVuSans-Bold-65\" x=\"553.662109\"/>\n",
       "      <use xlink:href=\"#DejaVuSans-Bold-74\" x=\"621.484375\"/>\n",
       "      <use xlink:href=\"#DejaVuSans-Bold-42\" x=\"669.287109\"/>\n",
       "      <use xlink:href=\"#DejaVuSans-Bold-31\" x=\"745.507812\"/>\n",
       "     </g>\n",
       "    </g>\n",
       "    <g id=\"patch_13\">\n",
       "     <path d=\"M 105.009375 434.638125 \n",
       "L 262.364375 434.638125 \n",
       "L 262.364375 422.638125 \n",
       "L 105.009375 422.638125 \n",
       "z\n",
       "\" style=\"fill: #ffffff; stroke: #000000; stroke-linejoin: miter\"/>\n",
       "    </g>\n",
       "    <g id=\"text_11\">\n",
       "     <!-- 0.9686 -->\n",
       "     <g transform=\"translate(164.393125 431.3975) scale(0.1 -0.1)\">\n",
       "      <use xlink:href=\"#DejaVuSans-Bold-30\"/>\n",
       "      <use xlink:href=\"#DejaVuSans-Bold-2e\" x=\"69.580078\"/>\n",
       "      <use xlink:href=\"#DejaVuSans-Bold-39\" x=\"107.568359\"/>\n",
       "      <use xlink:href=\"#DejaVuSans-Bold-36\" x=\"177.148438\"/>\n",
       "      <use xlink:href=\"#DejaVuSans-Bold-38\" x=\"246.728516\"/>\n",
       "      <use xlink:href=\"#DejaVuSans-Bold-36\" x=\"316.308594\"/>\n",
       "     </g>\n",
       "    </g>\n",
       "    <g id=\"patch_14\">\n",
       "     <path d=\"M 262.364375 434.638125 \n",
       "L 419.719375 434.638125 \n",
       "L 419.719375 422.638125 \n",
       "L 262.364375 422.638125 \n",
       "z\n",
       "\" style=\"fill: #ffffff; stroke: #000000; stroke-linejoin: miter\"/>\n",
       "    </g>\n",
       "    <g id=\"text_12\">\n",
       "     <!-- 0.9507 -->\n",
       "     <g transform=\"translate(321.748125 431.3975) scale(0.1 -0.1)\">\n",
       "      <use xlink:href=\"#DejaVuSans-Bold-30\"/>\n",
       "      <use xlink:href=\"#DejaVuSans-Bold-2e\" x=\"69.580078\"/>\n",
       "      <use xlink:href=\"#DejaVuSans-Bold-39\" x=\"107.568359\"/>\n",
       "      <use xlink:href=\"#DejaVuSans-Bold-35\" x=\"177.148438\"/>\n",
       "      <use xlink:href=\"#DejaVuSans-Bold-30\" x=\"246.728516\"/>\n",
       "      <use xlink:href=\"#DejaVuSans-Bold-37\" x=\"316.308594\"/>\n",
       "     </g>\n",
       "    </g>\n",
       "    <g id=\"patch_15\">\n",
       "     <path d=\"M 419.719375 434.638125 \n",
       "L 577.074375 434.638125 \n",
       "L 577.074375 422.638125 \n",
       "L 419.719375 422.638125 \n",
       "z\n",
       "\" style=\"fill: #ffffff; stroke: #000000; stroke-linejoin: miter\"/>\n",
       "    </g>\n",
       "    <g id=\"text_13\">\n",
       "     <!-- 0.9884 -->\n",
       "     <g transform=\"translate(479.103125 431.3975) scale(0.1 -0.1)\">\n",
       "      <defs>\n",
       "       <path id=\"DejaVuSans-Bold-34\" d=\"M 2356 3675 \n",
       "L 1038 1722 \n",
       "L 2356 1722 \n",
       "L 2356 3675 \n",
       "z\n",
       "M 2156 4666 \n",
       "L 3494 4666 \n",
       "L 3494 1722 \n",
       "L 4159 1722 \n",
       "L 4159 850 \n",
       "L 3494 850 \n",
       "L 3494 0 \n",
       "L 2356 0 \n",
       "L 2356 850 \n",
       "L 288 850 \n",
       "L 288 1881 \n",
       "L 2156 4666 \n",
       "z\n",
       "\" transform=\"scale(0.015625)\"/>\n",
       "      </defs>\n",
       "      <use xlink:href=\"#DejaVuSans-Bold-30\"/>\n",
       "      <use xlink:href=\"#DejaVuSans-Bold-2e\" x=\"69.580078\"/>\n",
       "      <use xlink:href=\"#DejaVuSans-Bold-39\" x=\"107.568359\"/>\n",
       "      <use xlink:href=\"#DejaVuSans-Bold-38\" x=\"177.148438\"/>\n",
       "      <use xlink:href=\"#DejaVuSans-Bold-38\" x=\"246.728516\"/>\n",
       "      <use xlink:href=\"#DejaVuSans-Bold-34\" x=\"316.308594\"/>\n",
       "     </g>\n",
       "    </g>\n",
       "    <g id=\"patch_16\">\n",
       "     <path d=\"M 577.074375 434.638125 \n",
       "L 734.429375 434.638125 \n",
       "L 734.429375 422.638125 \n",
       "L 577.074375 422.638125 \n",
       "z\n",
       "\" style=\"fill: #ffffff; stroke: #000000; stroke-linejoin: miter\"/>\n",
       "    </g>\n",
       "    <g id=\"text_14\">\n",
       "     <!-- 0.9686 -->\n",
       "     <g transform=\"translate(636.458125 431.3975) scale(0.1 -0.1)\">\n",
       "      <use xlink:href=\"#DejaVuSans-Bold-30\"/>\n",
       "      <use xlink:href=\"#DejaVuSans-Bold-2e\" x=\"69.580078\"/>\n",
       "      <use xlink:href=\"#DejaVuSans-Bold-39\" x=\"107.568359\"/>\n",
       "      <use xlink:href=\"#DejaVuSans-Bold-36\" x=\"177.148438\"/>\n",
       "      <use xlink:href=\"#DejaVuSans-Bold-38\" x=\"246.728516\"/>\n",
       "      <use xlink:href=\"#DejaVuSans-Bold-36\" x=\"316.308594\"/>\n",
       "     </g>\n",
       "    </g>\n",
       "    <g id=\"patch_17\">\n",
       "     <path d=\"M 7.2 446.638125 \n",
       "L 105.009375 446.638125 \n",
       "L 105.009375 434.638125 \n",
       "L 7.2 434.638125 \n",
       "z\n",
       "\" style=\"fill: #ffffff; stroke: #000000; stroke-linejoin: miter\"/>\n",
       "    </g>\n",
       "    <g id=\"text_15\">\n",
       "     <!-- EfficientNetB2 -->\n",
       "     <g transform=\"translate(16.980938 443.3975) scale(0.1 -0.1)\">\n",
       "      <use xlink:href=\"#DejaVuSans-Bold-45\"/>\n",
       "      <use xlink:href=\"#DejaVuSans-Bold-66\" x=\"68.310547\"/>\n",
       "      <use xlink:href=\"#DejaVuSans-Bold-66\" x=\"111.816406\"/>\n",
       "      <use xlink:href=\"#DejaVuSans-Bold-69\" x=\"155.322266\"/>\n",
       "      <use xlink:href=\"#DejaVuSans-Bold-63\" x=\"189.599609\"/>\n",
       "      <use xlink:href=\"#DejaVuSans-Bold-69\" x=\"248.876953\"/>\n",
       "      <use xlink:href=\"#DejaVuSans-Bold-65\" x=\"283.154297\"/>\n",
       "      <use xlink:href=\"#DejaVuSans-Bold-6e\" x=\"350.976562\"/>\n",
       "      <use xlink:href=\"#DejaVuSans-Bold-74\" x=\"422.167969\"/>\n",
       "      <use xlink:href=\"#DejaVuSans-Bold-4e\" x=\"469.970703\"/>\n",
       "      <use xlink:href=\"#DejaVuSans-Bold-65\" x=\"553.662109\"/>\n",
       "      <use xlink:href=\"#DejaVuSans-Bold-74\" x=\"621.484375\"/>\n",
       "      <use xlink:href=\"#DejaVuSans-Bold-42\" x=\"669.287109\"/>\n",
       "      <use xlink:href=\"#DejaVuSans-Bold-32\" x=\"745.507812\"/>\n",
       "     </g>\n",
       "    </g>\n",
       "    <g id=\"patch_18\">\n",
       "     <path d=\"M 105.009375 446.638125 \n",
       "L 262.364375 446.638125 \n",
       "L 262.364375 434.638125 \n",
       "L 105.009375 434.638125 \n",
       "z\n",
       "\" style=\"fill: #ffffff; stroke: #000000; stroke-linejoin: miter\"/>\n",
       "    </g>\n",
       "    <g id=\"text_16\">\n",
       "     <!-- 0.9697 -->\n",
       "     <g transform=\"translate(164.393125 443.3975) scale(0.1 -0.1)\">\n",
       "      <use xlink:href=\"#DejaVuSans-Bold-30\"/>\n",
       "      <use xlink:href=\"#DejaVuSans-Bold-2e\" x=\"69.580078\"/>\n",
       "      <use xlink:href=\"#DejaVuSans-Bold-39\" x=\"107.568359\"/>\n",
       "      <use xlink:href=\"#DejaVuSans-Bold-36\" x=\"177.148438\"/>\n",
       "      <use xlink:href=\"#DejaVuSans-Bold-39\" x=\"246.728516\"/>\n",
       "      <use xlink:href=\"#DejaVuSans-Bold-37\" x=\"316.308594\"/>\n",
       "     </g>\n",
       "    </g>\n",
       "    <g id=\"patch_19\">\n",
       "     <path d=\"M 262.364375 446.638125 \n",
       "L 419.719375 446.638125 \n",
       "L 419.719375 434.638125 \n",
       "L 262.364375 434.638125 \n",
       "z\n",
       "\" style=\"fill: #ffffff; stroke: #000000; stroke-linejoin: miter\"/>\n",
       "    </g>\n",
       "    <g id=\"text_17\">\n",
       "     <!-- 0.9673 -->\n",
       "     <g transform=\"translate(321.748125 443.3975) scale(0.1 -0.1)\">\n",
       "      <defs>\n",
       "       <path id=\"DejaVuSans-Bold-33\" d=\"M 2981 2516 \n",
       "Q 3453 2394 3698 2092 \n",
       "Q 3944 1791 3944 1325 \n",
       "Q 3944 631 3412 270 \n",
       "Q 2881 -91 1863 -91 \n",
       "Q 1503 -91 1142 -33 \n",
       "Q 781 25 428 141 \n",
       "L 428 1069 \n",
       "Q 766 900 1098 814 \n",
       "Q 1431 728 1753 728 \n",
       "Q 2231 728 2486 893 \n",
       "Q 2741 1059 2741 1369 \n",
       "Q 2741 1688 2480 1852 \n",
       "Q 2219 2016 1709 2016 \n",
       "L 1228 2016 \n",
       "L 1228 2791 \n",
       "L 1734 2791 \n",
       "Q 2188 2791 2409 2933 \n",
       "Q 2631 3075 2631 3366 \n",
       "Q 2631 3634 2415 3781 \n",
       "Q 2200 3928 1806 3928 \n",
       "Q 1516 3928 1219 3862 \n",
       "Q 922 3797 628 3669 \n",
       "L 628 4550 \n",
       "Q 984 4650 1334 4700 \n",
       "Q 1684 4750 2022 4750 \n",
       "Q 2931 4750 3382 4451 \n",
       "Q 3834 4153 3834 3553 \n",
       "Q 3834 3144 3618 2883 \n",
       "Q 3403 2622 2981 2516 \n",
       "z\n",
       "\" transform=\"scale(0.015625)\"/>\n",
       "      </defs>\n",
       "      <use xlink:href=\"#DejaVuSans-Bold-30\"/>\n",
       "      <use xlink:href=\"#DejaVuSans-Bold-2e\" x=\"69.580078\"/>\n",
       "      <use xlink:href=\"#DejaVuSans-Bold-39\" x=\"107.568359\"/>\n",
       "      <use xlink:href=\"#DejaVuSans-Bold-36\" x=\"177.148438\"/>\n",
       "      <use xlink:href=\"#DejaVuSans-Bold-37\" x=\"246.728516\"/>\n",
       "      <use xlink:href=\"#DejaVuSans-Bold-33\" x=\"316.308594\"/>\n",
       "     </g>\n",
       "    </g>\n",
       "    <g id=\"patch_20\">\n",
       "     <path d=\"M 419.719375 446.638125 \n",
       "L 577.074375 446.638125 \n",
       "L 577.074375 434.638125 \n",
       "L 419.719375 434.638125 \n",
       "z\n",
       "\" style=\"fill: #ffffff; stroke: #000000; stroke-linejoin: miter\"/>\n",
       "    </g>\n",
       "    <g id=\"text_18\">\n",
       "     <!-- 0.9723 -->\n",
       "     <g transform=\"translate(479.103125 443.3975) scale(0.1 -0.1)\">\n",
       "      <use xlink:href=\"#DejaVuSans-Bold-30\"/>\n",
       "      <use xlink:href=\"#DejaVuSans-Bold-2e\" x=\"69.580078\"/>\n",
       "      <use xlink:href=\"#DejaVuSans-Bold-39\" x=\"107.568359\"/>\n",
       "      <use xlink:href=\"#DejaVuSans-Bold-37\" x=\"177.148438\"/>\n",
       "      <use xlink:href=\"#DejaVuSans-Bold-32\" x=\"246.728516\"/>\n",
       "      <use xlink:href=\"#DejaVuSans-Bold-33\" x=\"316.308594\"/>\n",
       "     </g>\n",
       "    </g>\n",
       "    <g id=\"patch_21\">\n",
       "     <path d=\"M 577.074375 446.638125 \n",
       "L 734.429375 446.638125 \n",
       "L 734.429375 434.638125 \n",
       "L 577.074375 434.638125 \n",
       "z\n",
       "\" style=\"fill: #ffffff; stroke: #000000; stroke-linejoin: miter\"/>\n",
       "    </g>\n",
       "    <g id=\"text_19\">\n",
       "     <!-- 0.9697 -->\n",
       "     <g transform=\"translate(636.458125 443.3975) scale(0.1 -0.1)\">\n",
       "      <use xlink:href=\"#DejaVuSans-Bold-30\"/>\n",
       "      <use xlink:href=\"#DejaVuSans-Bold-2e\" x=\"69.580078\"/>\n",
       "      <use xlink:href=\"#DejaVuSans-Bold-39\" x=\"107.568359\"/>\n",
       "      <use xlink:href=\"#DejaVuSans-Bold-36\" x=\"177.148438\"/>\n",
       "      <use xlink:href=\"#DejaVuSans-Bold-39\" x=\"246.728516\"/>\n",
       "      <use xlink:href=\"#DejaVuSans-Bold-37\" x=\"316.308594\"/>\n",
       "     </g>\n",
       "    </g>\n",
       "    <g id=\"patch_22\">\n",
       "     <path d=\"M 7.2 458.638125 \n",
       "L 105.009375 458.638125 \n",
       "L 105.009375 446.638125 \n",
       "L 7.2 446.638125 \n",
       "z\n",
       "\" style=\"fill: #ffffff; stroke: #000000; stroke-linejoin: miter\"/>\n",
       "    </g>\n",
       "    <g id=\"text_20\">\n",
       "     <!-- EfficientNetB3 -->\n",
       "     <g transform=\"translate(16.980938 455.3975) scale(0.1 -0.1)\">\n",
       "      <use xlink:href=\"#DejaVuSans-Bold-45\"/>\n",
       "      <use xlink:href=\"#DejaVuSans-Bold-66\" x=\"68.310547\"/>\n",
       "      <use xlink:href=\"#DejaVuSans-Bold-66\" x=\"111.816406\"/>\n",
       "      <use xlink:href=\"#DejaVuSans-Bold-69\" x=\"155.322266\"/>\n",
       "      <use xlink:href=\"#DejaVuSans-Bold-63\" x=\"189.599609\"/>\n",
       "      <use xlink:href=\"#DejaVuSans-Bold-69\" x=\"248.876953\"/>\n",
       "      <use xlink:href=\"#DejaVuSans-Bold-65\" x=\"283.154297\"/>\n",
       "      <use xlink:href=\"#DejaVuSans-Bold-6e\" x=\"350.976562\"/>\n",
       "      <use xlink:href=\"#DejaVuSans-Bold-74\" x=\"422.167969\"/>\n",
       "      <use xlink:href=\"#DejaVuSans-Bold-4e\" x=\"469.970703\"/>\n",
       "      <use xlink:href=\"#DejaVuSans-Bold-65\" x=\"553.662109\"/>\n",
       "      <use xlink:href=\"#DejaVuSans-Bold-74\" x=\"621.484375\"/>\n",
       "      <use xlink:href=\"#DejaVuSans-Bold-42\" x=\"669.287109\"/>\n",
       "      <use xlink:href=\"#DejaVuSans-Bold-33\" x=\"745.507812\"/>\n",
       "     </g>\n",
       "    </g>\n",
       "    <g id=\"patch_23\">\n",
       "     <path d=\"M 105.009375 458.638125 \n",
       "L 262.364375 458.638125 \n",
       "L 262.364375 446.638125 \n",
       "L 105.009375 446.638125 \n",
       "z\n",
       "\" style=\"fill: #ffffff; stroke: #000000; stroke-linejoin: miter\"/>\n",
       "    </g>\n",
       "    <g id=\"text_21\">\n",
       "     <!-- 0.9745 -->\n",
       "     <g transform=\"translate(164.393125 455.3975) scale(0.1 -0.1)\">\n",
       "      <use xlink:href=\"#DejaVuSans-Bold-30\"/>\n",
       "      <use xlink:href=\"#DejaVuSans-Bold-2e\" x=\"69.580078\"/>\n",
       "      <use xlink:href=\"#DejaVuSans-Bold-39\" x=\"107.568359\"/>\n",
       "      <use xlink:href=\"#DejaVuSans-Bold-37\" x=\"177.148438\"/>\n",
       "      <use xlink:href=\"#DejaVuSans-Bold-34\" x=\"246.728516\"/>\n",
       "      <use xlink:href=\"#DejaVuSans-Bold-35\" x=\"316.308594\"/>\n",
       "     </g>\n",
       "    </g>\n",
       "    <g id=\"patch_24\">\n",
       "     <path d=\"M 262.364375 458.638125 \n",
       "L 419.719375 458.638125 \n",
       "L 419.719375 446.638125 \n",
       "L 262.364375 446.638125 \n",
       "z\n",
       "\" style=\"fill: #ffffff; stroke: #000000; stroke-linejoin: miter\"/>\n",
       "    </g>\n",
       "    <g id=\"text_22\">\n",
       "     <!-- 0.9665 -->\n",
       "     <g transform=\"translate(321.748125 455.3975) scale(0.1 -0.1)\">\n",
       "      <use xlink:href=\"#DejaVuSans-Bold-30\"/>\n",
       "      <use xlink:href=\"#DejaVuSans-Bold-2e\" x=\"69.580078\"/>\n",
       "      <use xlink:href=\"#DejaVuSans-Bold-39\" x=\"107.568359\"/>\n",
       "      <use xlink:href=\"#DejaVuSans-Bold-36\" x=\"177.148438\"/>\n",
       "      <use xlink:href=\"#DejaVuSans-Bold-36\" x=\"246.728516\"/>\n",
       "      <use xlink:href=\"#DejaVuSans-Bold-35\" x=\"316.308594\"/>\n",
       "     </g>\n",
       "    </g>\n",
       "    <g id=\"patch_25\">\n",
       "     <path d=\"M 419.719375 458.638125 \n",
       "L 577.074375 458.638125 \n",
       "L 577.074375 446.638125 \n",
       "L 419.719375 446.638125 \n",
       "z\n",
       "\" style=\"fill: #ffffff; stroke: #000000; stroke-linejoin: miter\"/>\n",
       "    </g>\n",
       "    <g id=\"text_23\">\n",
       "     <!-- 0.9831 -->\n",
       "     <g transform=\"translate(479.103125 455.3975) scale(0.1 -0.1)\">\n",
       "      <use xlink:href=\"#DejaVuSans-Bold-30\"/>\n",
       "      <use xlink:href=\"#DejaVuSans-Bold-2e\" x=\"69.580078\"/>\n",
       "      <use xlink:href=\"#DejaVuSans-Bold-39\" x=\"107.568359\"/>\n",
       "      <use xlink:href=\"#DejaVuSans-Bold-38\" x=\"177.148438\"/>\n",
       "      <use xlink:href=\"#DejaVuSans-Bold-33\" x=\"246.728516\"/>\n",
       "      <use xlink:href=\"#DejaVuSans-Bold-31\" x=\"316.308594\"/>\n",
       "     </g>\n",
       "    </g>\n",
       "    <g id=\"patch_26\">\n",
       "     <path d=\"M 577.074375 458.638125 \n",
       "L 734.429375 458.638125 \n",
       "L 734.429375 446.638125 \n",
       "L 577.074375 446.638125 \n",
       "z\n",
       "\" style=\"fill: #ffffff; stroke: #000000; stroke-linejoin: miter\"/>\n",
       "    </g>\n",
       "    <g id=\"text_24\">\n",
       "     <!-- 0.9745 -->\n",
       "     <g transform=\"translate(636.458125 455.3975) scale(0.1 -0.1)\">\n",
       "      <use xlink:href=\"#DejaVuSans-Bold-30\"/>\n",
       "      <use xlink:href=\"#DejaVuSans-Bold-2e\" x=\"69.580078\"/>\n",
       "      <use xlink:href=\"#DejaVuSans-Bold-39\" x=\"107.568359\"/>\n",
       "      <use xlink:href=\"#DejaVuSans-Bold-37\" x=\"177.148438\"/>\n",
       "      <use xlink:href=\"#DejaVuSans-Bold-34\" x=\"246.728516\"/>\n",
       "      <use xlink:href=\"#DejaVuSans-Bold-35\" x=\"316.308594\"/>\n",
       "     </g>\n",
       "    </g>\n",
       "   </g>\n",
       "   <g id=\"patch_27\">\n",
       "    <path d=\"M 144.348125 1276.718125 \n",
       "L 164.0175 1276.718125 \n",
       "L 164.0175 56.547434 \n",
       "L 144.348125 56.547434 \n",
       "z\n",
       "\" clip-path=\"url(#p97131c3641)\" style=\"fill: #1f77b4\"/>\n",
       "   </g>\n",
       "   <g id=\"patch_28\">\n",
       "    <path d=\"M 301.703125 1276.718125 \n",
       "L 321.3725 1276.718125 \n",
       "L 321.3725 73.654986 \n",
       "L 301.703125 73.654986 \n",
       "z\n",
       "\" clip-path=\"url(#p97131c3641)\" style=\"fill: #1f77b4\"/>\n",
       "   </g>\n",
       "   <g id=\"patch_29\">\n",
       "    <path d=\"M 459.058125 1276.718125 \n",
       "L 478.7275 1276.718125 \n",
       "L 478.7275 37.914784 \n",
       "L 459.058125 37.914784 \n",
       "z\n",
       "\" clip-path=\"url(#p97131c3641)\" style=\"fill: #1f77b4\"/>\n",
       "   </g>\n",
       "   <g id=\"patch_30\">\n",
       "    <path d=\"M 616.413125 1276.718125 \n",
       "L 636.0825 1276.718125 \n",
       "L 636.0825 56.547434 \n",
       "L 616.413125 56.547434 \n",
       "z\n",
       "\" clip-path=\"url(#p97131c3641)\" style=\"fill: #1f77b4\"/>\n",
       "   </g>\n",
       "   <g id=\"patch_31\">\n",
       "    <path d=\"M 164.0175 1276.718125 \n",
       "L 183.686875 1276.718125 \n",
       "L 183.686875 61.726477 \n",
       "L 164.0175 61.726477 \n",
       "z\n",
       "\" clip-path=\"url(#p97131c3641)\" style=\"fill: #ff7f0e\"/>\n",
       "   </g>\n",
       "   <g id=\"patch_32\">\n",
       "    <path d=\"M 321.3725 1276.718125 \n",
       "L 341.041875 1276.718125 \n",
       "L 341.041875 84.104741 \n",
       "L 321.3725 84.104741 \n",
       "z\n",
       "\" clip-path=\"url(#p97131c3641)\" style=\"fill: #ff7f0e\"/>\n",
       "   </g>\n",
       "   <g id=\"patch_33\">\n",
       "    <path d=\"M 478.7275 1276.718125 \n",
       "L 498.396875 1276.718125 \n",
       "L 498.396875 36.902787 \n",
       "L 478.7275 36.902787 \n",
       "z\n",
       "\" clip-path=\"url(#p97131c3641)\" style=\"fill: #ff7f0e\"/>\n",
       "   </g>\n",
       "   <g id=\"patch_34\">\n",
       "    <path d=\"M 636.0825 1276.718125 \n",
       "L 655.751875 1276.718125 \n",
       "L 655.751875 61.726477 \n",
       "L 636.0825 61.726477 \n",
       "z\n",
       "\" clip-path=\"url(#p97131c3641)\" style=\"fill: #ff7f0e\"/>\n",
       "   </g>\n",
       "   <g id=\"patch_35\">\n",
       "    <path d=\"M 183.686875 1276.718125 \n",
       "L 203.35625 1276.718125 \n",
       "L 203.35625 60.297776 \n",
       "L 183.686875 60.297776 \n",
       "z\n",
       "\" clip-path=\"url(#p97131c3641)\" style=\"fill: #2ca02c\"/>\n",
       "   </g>\n",
       "   <g id=\"patch_36\">\n",
       "    <path d=\"M 341.041875 1276.718125 \n",
       "L 360.71125 1276.718125 \n",
       "L 360.71125 63.357649 \n",
       "L 341.041875 63.357649 \n",
       "z\n",
       "\" clip-path=\"url(#p97131c3641)\" style=\"fill: #2ca02c\"/>\n",
       "   </g>\n",
       "   <g id=\"patch_37\">\n",
       "    <path d=\"M 498.396875 1276.718125 \n",
       "L 518.06625 1276.718125 \n",
       "L 518.06625 57.023668 \n",
       "L 498.396875 57.023668 \n",
       "z\n",
       "\" clip-path=\"url(#p97131c3641)\" style=\"fill: #2ca02c\"/>\n",
       "   </g>\n",
       "   <g id=\"patch_38\">\n",
       "    <path d=\"M 655.751875 1276.718125 \n",
       "L 675.42125 1276.718125 \n",
       "L 675.42125 60.297776 \n",
       "L 655.751875 60.297776 \n",
       "z\n",
       "\" clip-path=\"url(#p97131c3641)\" style=\"fill: #2ca02c\"/>\n",
       "   </g>\n",
       "   <g id=\"patch_39\">\n",
       "    <path d=\"M 203.35625 1276.718125 \n",
       "L 223.025625 1276.718125 \n",
       "L 223.025625 54.285323 \n",
       "L 203.35625 54.285323 \n",
       "z\n",
       "\" clip-path=\"url(#p97131c3641)\" style=\"fill: #d62728\"/>\n",
       "   </g>\n",
       "   <g id=\"patch_40\">\n",
       "    <path d=\"M 360.71125 1276.718125 \n",
       "L 380.380625 1276.718125 \n",
       "L 380.380625 64.283635 \n",
       "L 360.71125 64.283635 \n",
       "z\n",
       "\" clip-path=\"url(#p97131c3641)\" style=\"fill: #d62728\"/>\n",
       "   </g>\n",
       "   <g id=\"patch_41\">\n",
       "    <path d=\"M 518.06625 1276.718125 \n",
       "L 537.735625 1276.718125 \n",
       "L 537.735625 43.570061 \n",
       "L 518.06625 43.570061 \n",
       "z\n",
       "\" clip-path=\"url(#p97131c3641)\" style=\"fill: #d62728\"/>\n",
       "   </g>\n",
       "   <g id=\"patch_42\">\n",
       "    <path d=\"M 675.42125 1276.718125 \n",
       "L 695.090625 1276.718125 \n",
       "L 695.090625 54.285323 \n",
       "L 675.42125 54.285323 \n",
       "z\n",
       "\" clip-path=\"url(#p97131c3641)\" style=\"fill: #d62728\"/>\n",
       "   </g>\n",
       "   <g id=\"matplotlib.axis_1\">\n",
       "    <g id=\"xtick_1\">\n",
       "     <g id=\"line2d_1\">\n",
       "      <path d=\"M 183.686875 398.638125 \n",
       "L 183.686875 22.318125 \n",
       "\" clip-path=\"url(#p97131c3641)\" style=\"fill: none; stroke: #b0b0b0; stroke-width: 0.8; stroke-linecap: square\"/>\n",
       "     </g>\n",
       "     <g id=\"line2d_2\">\n",
       "      <defs>\n",
       "       <path id=\"m3a086e4734\" d=\"M 0 0 \n",
       "L 0 3.5 \n",
       "\" style=\"stroke: #000000; stroke-width: 0.8\"/>\n",
       "      </defs>\n",
       "      <g>\n",
       "       <use xlink:href=\"#m3a086e4734\" x=\"183.686875\" y=\"398.638125\" style=\"stroke: #000000; stroke-width: 0.8\"/>\n",
       "      </g>\n",
       "     </g>\n",
       "    </g>\n",
       "    <g id=\"xtick_2\">\n",
       "     <g id=\"line2d_3\">\n",
       "      <path d=\"M 341.041875 398.638125 \n",
       "L 341.041875 22.318125 \n",
       "\" clip-path=\"url(#p97131c3641)\" style=\"fill: none; stroke: #b0b0b0; stroke-width: 0.8; stroke-linecap: square\"/>\n",
       "     </g>\n",
       "     <g id=\"line2d_4\">\n",
       "      <g>\n",
       "       <use xlink:href=\"#m3a086e4734\" x=\"341.041875\" y=\"398.638125\" style=\"stroke: #000000; stroke-width: 0.8\"/>\n",
       "      </g>\n",
       "     </g>\n",
       "    </g>\n",
       "    <g id=\"xtick_3\">\n",
       "     <g id=\"line2d_5\">\n",
       "      <path d=\"M 498.396875 398.638125 \n",
       "L 498.396875 22.318125 \n",
       "\" clip-path=\"url(#p97131c3641)\" style=\"fill: none; stroke: #b0b0b0; stroke-width: 0.8; stroke-linecap: square\"/>\n",
       "     </g>\n",
       "     <g id=\"line2d_6\">\n",
       "      <g>\n",
       "       <use xlink:href=\"#m3a086e4734\" x=\"498.396875\" y=\"398.638125\" style=\"stroke: #000000; stroke-width: 0.8\"/>\n",
       "      </g>\n",
       "     </g>\n",
       "    </g>\n",
       "    <g id=\"xtick_4\">\n",
       "     <g id=\"line2d_7\">\n",
       "      <path d=\"M 655.751875 398.638125 \n",
       "L 655.751875 22.318125 \n",
       "\" clip-path=\"url(#p97131c3641)\" style=\"fill: none; stroke: #b0b0b0; stroke-width: 0.8; stroke-linecap: square\"/>\n",
       "     </g>\n",
       "     <g id=\"line2d_8\">\n",
       "      <g>\n",
       "       <use xlink:href=\"#m3a086e4734\" x=\"655.751875\" y=\"398.638125\" style=\"stroke: #000000; stroke-width: 0.8\"/>\n",
       "      </g>\n",
       "     </g>\n",
       "    </g>\n",
       "   </g>\n",
       "   <g id=\"matplotlib.axis_2\">\n",
       "    <g id=\"ytick_1\">\n",
       "     <g id=\"line2d_9\">\n",
       "      <path d=\"M 105.009375 398.638125 \n",
       "L 734.429375 398.638125 \n",
       "\" clip-path=\"url(#p97131c3641)\" style=\"fill: none; stroke: #b0b0b0; stroke-width: 0.8; stroke-linecap: square\"/>\n",
       "     </g>\n",
       "     <g id=\"line2d_10\">\n",
       "      <defs>\n",
       "       <path id=\"m77cb30aee9\" d=\"M 0 0 \n",
       "L -6 0 \n",
       "\" style=\"stroke: #000000; stroke-width: 2\"/>\n",
       "      </defs>\n",
       "      <g>\n",
       "       <use xlink:href=\"#m77cb30aee9\" x=\"105.009375\" y=\"398.638125\" style=\"stroke: #000000; stroke-width: 2\"/>\n",
       "      </g>\n",
       "     </g>\n",
       "     <g id=\"text_25\">\n",
       "      <!-- 0.70 -->\n",
       "      <g transform=\"translate(68.370313 402.817266) scale(0.11 -0.11)\">\n",
       "       <use xlink:href=\"#DejaVuSans-Bold-30\"/>\n",
       "       <use xlink:href=\"#DejaVuSans-Bold-2e\" x=\"69.580078\"/>\n",
       "       <use xlink:href=\"#DejaVuSans-Bold-37\" x=\"107.568359\"/>\n",
       "       <use xlink:href=\"#DejaVuSans-Bold-30\" x=\"177.148438\"/>\n",
       "      </g>\n",
       "     </g>\n",
       "    </g>\n",
       "    <g id=\"ytick_2\">\n",
       "     <g id=\"line2d_11\">\n",
       "      <path d=\"M 105.009375 335.918125 \n",
       "L 734.429375 335.918125 \n",
       "\" clip-path=\"url(#p97131c3641)\" style=\"fill: none; stroke: #b0b0b0; stroke-width: 0.8; stroke-linecap: square\"/>\n",
       "     </g>\n",
       "     <g id=\"line2d_12\">\n",
       "      <g>\n",
       "       <use xlink:href=\"#m77cb30aee9\" x=\"105.009375\" y=\"335.918125\" style=\"stroke: #000000; stroke-width: 2\"/>\n",
       "      </g>\n",
       "     </g>\n",
       "     <g id=\"text_26\">\n",
       "      <!-- 0.75 -->\n",
       "      <g transform=\"translate(68.370313 340.097266) scale(0.11 -0.11)\">\n",
       "       <use xlink:href=\"#DejaVuSans-Bold-30\"/>\n",
       "       <use xlink:href=\"#DejaVuSans-Bold-2e\" x=\"69.580078\"/>\n",
       "       <use xlink:href=\"#DejaVuSans-Bold-37\" x=\"107.568359\"/>\n",
       "       <use xlink:href=\"#DejaVuSans-Bold-35\" x=\"177.148438\"/>\n",
       "      </g>\n",
       "     </g>\n",
       "    </g>\n",
       "    <g id=\"ytick_3\">\n",
       "     <g id=\"line2d_13\">\n",
       "      <path d=\"M 105.009375 273.198125 \n",
       "L 734.429375 273.198125 \n",
       "\" clip-path=\"url(#p97131c3641)\" style=\"fill: none; stroke: #b0b0b0; stroke-width: 0.8; stroke-linecap: square\"/>\n",
       "     </g>\n",
       "     <g id=\"line2d_14\">\n",
       "      <g>\n",
       "       <use xlink:href=\"#m77cb30aee9\" x=\"105.009375\" y=\"273.198125\" style=\"stroke: #000000; stroke-width: 2\"/>\n",
       "      </g>\n",
       "     </g>\n",
       "     <g id=\"text_27\">\n",
       "      <!-- 0.80 -->\n",
       "      <g transform=\"translate(68.370313 277.377266) scale(0.11 -0.11)\">\n",
       "       <use xlink:href=\"#DejaVuSans-Bold-30\"/>\n",
       "       <use xlink:href=\"#DejaVuSans-Bold-2e\" x=\"69.580078\"/>\n",
       "       <use xlink:href=\"#DejaVuSans-Bold-38\" x=\"107.568359\"/>\n",
       "       <use xlink:href=\"#DejaVuSans-Bold-30\" x=\"177.148438\"/>\n",
       "      </g>\n",
       "     </g>\n",
       "    </g>\n",
       "    <g id=\"ytick_4\">\n",
       "     <g id=\"line2d_15\">\n",
       "      <path d=\"M 105.009375 210.478125 \n",
       "L 734.429375 210.478125 \n",
       "\" clip-path=\"url(#p97131c3641)\" style=\"fill: none; stroke: #b0b0b0; stroke-width: 0.8; stroke-linecap: square\"/>\n",
       "     </g>\n",
       "     <g id=\"line2d_16\">\n",
       "      <g>\n",
       "       <use xlink:href=\"#m77cb30aee9\" x=\"105.009375\" y=\"210.478125\" style=\"stroke: #000000; stroke-width: 2\"/>\n",
       "      </g>\n",
       "     </g>\n",
       "     <g id=\"text_28\">\n",
       "      <!-- 0.85 -->\n",
       "      <g transform=\"translate(68.370313 214.657266) scale(0.11 -0.11)\">\n",
       "       <use xlink:href=\"#DejaVuSans-Bold-30\"/>\n",
       "       <use xlink:href=\"#DejaVuSans-Bold-2e\" x=\"69.580078\"/>\n",
       "       <use xlink:href=\"#DejaVuSans-Bold-38\" x=\"107.568359\"/>\n",
       "       <use xlink:href=\"#DejaVuSans-Bold-35\" x=\"177.148438\"/>\n",
       "      </g>\n",
       "     </g>\n",
       "    </g>\n",
       "    <g id=\"ytick_5\">\n",
       "     <g id=\"line2d_17\">\n",
       "      <path d=\"M 105.009375 147.758125 \n",
       "L 734.429375 147.758125 \n",
       "\" clip-path=\"url(#p97131c3641)\" style=\"fill: none; stroke: #b0b0b0; stroke-width: 0.8; stroke-linecap: square\"/>\n",
       "     </g>\n",
       "     <g id=\"line2d_18\">\n",
       "      <g>\n",
       "       <use xlink:href=\"#m77cb30aee9\" x=\"105.009375\" y=\"147.758125\" style=\"stroke: #000000; stroke-width: 2\"/>\n",
       "      </g>\n",
       "     </g>\n",
       "     <g id=\"text_29\">\n",
       "      <!-- 0.90 -->\n",
       "      <g transform=\"translate(68.370313 151.937266) scale(0.11 -0.11)\">\n",
       "       <use xlink:href=\"#DejaVuSans-Bold-30\"/>\n",
       "       <use xlink:href=\"#DejaVuSans-Bold-2e\" x=\"69.580078\"/>\n",
       "       <use xlink:href=\"#DejaVuSans-Bold-39\" x=\"107.568359\"/>\n",
       "       <use xlink:href=\"#DejaVuSans-Bold-30\" x=\"177.148438\"/>\n",
       "      </g>\n",
       "     </g>\n",
       "    </g>\n",
       "    <g id=\"ytick_6\">\n",
       "     <g id=\"line2d_19\">\n",
       "      <path d=\"M 105.009375 85.038125 \n",
       "L 734.429375 85.038125 \n",
       "\" clip-path=\"url(#p97131c3641)\" style=\"fill: none; stroke: #b0b0b0; stroke-width: 0.8; stroke-linecap: square\"/>\n",
       "     </g>\n",
       "     <g id=\"line2d_20\">\n",
       "      <g>\n",
       "       <use xlink:href=\"#m77cb30aee9\" x=\"105.009375\" y=\"85.038125\" style=\"stroke: #000000; stroke-width: 2\"/>\n",
       "      </g>\n",
       "     </g>\n",
       "     <g id=\"text_30\">\n",
       "      <!-- 0.95 -->\n",
       "      <g transform=\"translate(68.370313 89.217266) scale(0.11 -0.11)\">\n",
       "       <use xlink:href=\"#DejaVuSans-Bold-30\"/>\n",
       "       <use xlink:href=\"#DejaVuSans-Bold-2e\" x=\"69.580078\"/>\n",
       "       <use xlink:href=\"#DejaVuSans-Bold-39\" x=\"107.568359\"/>\n",
       "       <use xlink:href=\"#DejaVuSans-Bold-35\" x=\"177.148438\"/>\n",
       "      </g>\n",
       "     </g>\n",
       "    </g>\n",
       "    <g id=\"ytick_7\">\n",
       "     <g id=\"line2d_21\">\n",
       "      <path d=\"M 105.009375 22.318125 \n",
       "L 734.429375 22.318125 \n",
       "\" clip-path=\"url(#p97131c3641)\" style=\"fill: none; stroke: #b0b0b0; stroke-width: 0.8; stroke-linecap: square\"/>\n",
       "     </g>\n",
       "     <g id=\"line2d_22\">\n",
       "      <g>\n",
       "       <use xlink:href=\"#m77cb30aee9\" x=\"105.009375\" y=\"22.318125\" style=\"stroke: #000000; stroke-width: 2\"/>\n",
       "      </g>\n",
       "     </g>\n",
       "     <g id=\"text_31\">\n",
       "      <!-- 1.00 -->\n",
       "      <g transform=\"translate(68.370313 26.497266) scale(0.11 -0.11)\">\n",
       "       <use xlink:href=\"#DejaVuSans-Bold-31\"/>\n",
       "       <use xlink:href=\"#DejaVuSans-Bold-2e\" x=\"69.580078\"/>\n",
       "       <use xlink:href=\"#DejaVuSans-Bold-30\" x=\"107.568359\"/>\n",
       "       <use xlink:href=\"#DejaVuSans-Bold-30\" x=\"177.148438\"/>\n",
       "      </g>\n",
       "     </g>\n",
       "    </g>\n",
       "    <g id=\"text_32\">\n",
       "     <!-- Scores -->\n",
       "     <g transform=\"translate(62.290625 229.310937) rotate(-90) scale(0.1 -0.1)\">\n",
       "      <defs>\n",
       "       <path id=\"DejaVuSans-Bold-53\" d=\"M 3834 4519 \n",
       "L 3834 3531 \n",
       "Q 3450 3703 3084 3790 \n",
       "Q 2719 3878 2394 3878 \n",
       "Q 1963 3878 1756 3759 \n",
       "Q 1550 3641 1550 3391 \n",
       "Q 1550 3203 1689 3098 \n",
       "Q 1828 2994 2194 2919 \n",
       "L 2706 2816 \n",
       "Q 3484 2659 3812 2340 \n",
       "Q 4141 2022 4141 1434 \n",
       "Q 4141 663 3683 286 \n",
       "Q 3225 -91 2284 -91 \n",
       "Q 1841 -91 1394 -6 \n",
       "Q 947 78 500 244 \n",
       "L 500 1259 \n",
       "Q 947 1022 1364 901 \n",
       "Q 1781 781 2169 781 \n",
       "Q 2563 781 2772 912 \n",
       "Q 2981 1044 2981 1288 \n",
       "Q 2981 1506 2839 1625 \n",
       "Q 2697 1744 2272 1838 \n",
       "L 1806 1941 \n",
       "Q 1106 2091 782 2419 \n",
       "Q 459 2747 459 3303 \n",
       "Q 459 4000 909 4375 \n",
       "Q 1359 4750 2203 4750 \n",
       "Q 2588 4750 2994 4692 \n",
       "Q 3400 4634 3834 4519 \n",
       "z\n",
       "\" transform=\"scale(0.015625)\"/>\n",
       "      </defs>\n",
       "      <use xlink:href=\"#DejaVuSans-Bold-53\"/>\n",
       "      <use xlink:href=\"#DejaVuSans-Bold-63\" x=\"72.021484\"/>\n",
       "      <use xlink:href=\"#DejaVuSans-Bold-6f\" x=\"131.298828\"/>\n",
       "      <use xlink:href=\"#DejaVuSans-Bold-72\" x=\"200\"/>\n",
       "      <use xlink:href=\"#DejaVuSans-Bold-65\" x=\"249.316406\"/>\n",
       "      <use xlink:href=\"#DejaVuSans-Bold-73\" x=\"317.138672\"/>\n",
       "     </g>\n",
       "    </g>\n",
       "   </g>\n",
       "   <g id=\"patch_43\">\n",
       "    <path d=\"M 105.009375 398.638125 \n",
       "L 105.009375 22.318125 \n",
       "\" style=\"fill: none; stroke: #000000; stroke-width: 0.8; stroke-linejoin: miter; stroke-linecap: square\"/>\n",
       "   </g>\n",
       "   <g id=\"patch_44\">\n",
       "    <path d=\"M 734.429375 398.638125 \n",
       "L 734.429375 22.318125 \n",
       "\" style=\"fill: none; stroke: #000000; stroke-width: 0.8; stroke-linejoin: miter; stroke-linecap: square\"/>\n",
       "   </g>\n",
       "   <g id=\"patch_45\">\n",
       "    <path d=\"M 105.009375 398.638125 \n",
       "L 734.429375 398.638125 \n",
       "\" style=\"fill: none; stroke: #000000; stroke-width: 0.8; stroke-linejoin: miter; stroke-linecap: square\"/>\n",
       "   </g>\n",
       "   <g id=\"patch_46\">\n",
       "    <path d=\"M 105.009375 22.318125 \n",
       "L 734.429375 22.318125 \n",
       "\" style=\"fill: none; stroke: #000000; stroke-width: 0.8; stroke-linejoin: miter; stroke-linecap: square\"/>\n",
       "   </g>\n",
       "   <g id=\"text_33\">\n",
       "    <!-- Landmarks Model Evaluation Metrics -->\n",
       "    <g transform=\"translate(294.873437 16.318125) scale(0.12 -0.12)\">\n",
       "     <defs>\n",
       "      <path id=\"DejaVuSans-Bold-4c\" d=\"M 588 4666 \n",
       "L 1791 4666 \n",
       "L 1791 909 \n",
       "L 3903 909 \n",
       "L 3903 0 \n",
       "L 588 0 \n",
       "L 588 4666 \n",
       "z\n",
       "\" transform=\"scale(0.015625)\"/>\n",
       "      <path id=\"DejaVuSans-Bold-64\" d=\"M 2919 2988 \n",
       "L 2919 4863 \n",
       "L 4044 4863 \n",
       "L 4044 0 \n",
       "L 2919 0 \n",
       "L 2919 506 \n",
       "Q 2688 197 2409 53 \n",
       "Q 2131 -91 1766 -91 \n",
       "Q 1119 -91 703 423 \n",
       "Q 288 938 288 1747 \n",
       "Q 288 2556 703 3070 \n",
       "Q 1119 3584 1766 3584 \n",
       "Q 2128 3584 2408 3439 \n",
       "Q 2688 3294 2919 2988 \n",
       "z\n",
       "M 2181 722 \n",
       "Q 2541 722 2730 984 \n",
       "Q 2919 1247 2919 1747 \n",
       "Q 2919 2247 2730 2509 \n",
       "Q 2541 2772 2181 2772 \n",
       "Q 1825 2772 1636 2509 \n",
       "Q 1447 2247 1447 1747 \n",
       "Q 1447 1247 1636 984 \n",
       "Q 1825 722 2181 722 \n",
       "z\n",
       "\" transform=\"scale(0.015625)\"/>\n",
       "      <path id=\"DejaVuSans-Bold-6d\" d=\"M 3781 2919 \n",
       "Q 3994 3244 4286 3414 \n",
       "Q 4578 3584 4928 3584 \n",
       "Q 5531 3584 5847 3212 \n",
       "Q 6163 2841 6163 2131 \n",
       "L 6163 0 \n",
       "L 5038 0 \n",
       "L 5038 1825 \n",
       "Q 5041 1866 5042 1909 \n",
       "Q 5044 1953 5044 2034 \n",
       "Q 5044 2406 4934 2573 \n",
       "Q 4825 2741 4581 2741 \n",
       "Q 4263 2741 4089 2478 \n",
       "Q 3916 2216 3909 1719 \n",
       "L 3909 0 \n",
       "L 2784 0 \n",
       "L 2784 1825 \n",
       "Q 2784 2406 2684 2573 \n",
       "Q 2584 2741 2328 2741 \n",
       "Q 2006 2741 1831 2477 \n",
       "Q 1656 2213 1656 1722 \n",
       "L 1656 0 \n",
       "L 531 0 \n",
       "L 531 3500 \n",
       "L 1656 3500 \n",
       "L 1656 2988 \n",
       "Q 1863 3284 2130 3434 \n",
       "Q 2397 3584 2719 3584 \n",
       "Q 3081 3584 3359 3409 \n",
       "Q 3638 3234 3781 2919 \n",
       "z\n",
       "\" transform=\"scale(0.015625)\"/>\n",
       "      <path id=\"DejaVuSans-Bold-6b\" d=\"M 538 4863 \n",
       "L 1656 4863 \n",
       "L 1656 2216 \n",
       "L 2944 3500 \n",
       "L 4244 3500 \n",
       "L 2534 1894 \n",
       "L 4378 0 \n",
       "L 3022 0 \n",
       "L 1656 1459 \n",
       "L 1656 0 \n",
       "L 538 0 \n",
       "L 538 4863 \n",
       "z\n",
       "\" transform=\"scale(0.015625)\"/>\n",
       "      <path id=\"DejaVuSans-Bold-20\" transform=\"scale(0.015625)\"/>\n",
       "      <path id=\"DejaVuSans-Bold-4d\" d=\"M 588 4666 \n",
       "L 2119 4666 \n",
       "L 3181 2169 \n",
       "L 4250 4666 \n",
       "L 5778 4666 \n",
       "L 5778 0 \n",
       "L 4641 0 \n",
       "L 4641 3413 \n",
       "L 3566 897 \n",
       "L 2803 897 \n",
       "L 1728 3413 \n",
       "L 1728 0 \n",
       "L 588 0 \n",
       "L 588 4666 \n",
       "z\n",
       "\" transform=\"scale(0.015625)\"/>\n",
       "      <path id=\"DejaVuSans-Bold-76\" d=\"M 97 3500 \n",
       "L 1216 3500 \n",
       "L 2088 1081 \n",
       "L 2956 3500 \n",
       "L 4078 3500 \n",
       "L 2700 0 \n",
       "L 1472 0 \n",
       "L 97 3500 \n",
       "z\n",
       "\" transform=\"scale(0.015625)\"/>\n",
       "     </defs>\n",
       "     <use xlink:href=\"#DejaVuSans-Bold-4c\"/>\n",
       "     <use xlink:href=\"#DejaVuSans-Bold-61\" x=\"63.720703\"/>\n",
       "     <use xlink:href=\"#DejaVuSans-Bold-6e\" x=\"131.201172\"/>\n",
       "     <use xlink:href=\"#DejaVuSans-Bold-64\" x=\"202.392578\"/>\n",
       "     <use xlink:href=\"#DejaVuSans-Bold-6d\" x=\"273.974609\"/>\n",
       "     <use xlink:href=\"#DejaVuSans-Bold-61\" x=\"378.173828\"/>\n",
       "     <use xlink:href=\"#DejaVuSans-Bold-72\" x=\"445.654297\"/>\n",
       "     <use xlink:href=\"#DejaVuSans-Bold-6b\" x=\"494.970703\"/>\n",
       "     <use xlink:href=\"#DejaVuSans-Bold-73\" x=\"561.474609\"/>\n",
       "     <use xlink:href=\"#DejaVuSans-Bold-20\" x=\"620.996094\"/>\n",
       "     <use xlink:href=\"#DejaVuSans-Bold-4d\" x=\"655.810547\"/>\n",
       "     <use xlink:href=\"#DejaVuSans-Bold-6f\" x=\"755.322266\"/>\n",
       "     <use xlink:href=\"#DejaVuSans-Bold-64\" x=\"824.023438\"/>\n",
       "     <use xlink:href=\"#DejaVuSans-Bold-65\" x=\"895.605469\"/>\n",
       "     <use xlink:href=\"#DejaVuSans-Bold-6c\" x=\"963.427734\"/>\n",
       "     <use xlink:href=\"#DejaVuSans-Bold-20\" x=\"997.705078\"/>\n",
       "     <use xlink:href=\"#DejaVuSans-Bold-45\" x=\"1032.519531\"/>\n",
       "     <use xlink:href=\"#DejaVuSans-Bold-76\" x=\"1100.830078\"/>\n",
       "     <use xlink:href=\"#DejaVuSans-Bold-61\" x=\"1166.015625\"/>\n",
       "     <use xlink:href=\"#DejaVuSans-Bold-6c\" x=\"1233.496094\"/>\n",
       "     <use xlink:href=\"#DejaVuSans-Bold-75\" x=\"1267.773438\"/>\n",
       "     <use xlink:href=\"#DejaVuSans-Bold-61\" x=\"1338.964844\"/>\n",
       "     <use xlink:href=\"#DejaVuSans-Bold-74\" x=\"1406.445312\"/>\n",
       "     <use xlink:href=\"#DejaVuSans-Bold-69\" x=\"1454.248047\"/>\n",
       "     <use xlink:href=\"#DejaVuSans-Bold-6f\" x=\"1488.525391\"/>\n",
       "     <use xlink:href=\"#DejaVuSans-Bold-6e\" x=\"1557.226562\"/>\n",
       "     <use xlink:href=\"#DejaVuSans-Bold-20\" x=\"1628.417969\"/>\n",
       "     <use xlink:href=\"#DejaVuSans-Bold-4d\" x=\"1663.232422\"/>\n",
       "     <use xlink:href=\"#DejaVuSans-Bold-65\" x=\"1762.744141\"/>\n",
       "     <use xlink:href=\"#DejaVuSans-Bold-74\" x=\"1830.566406\"/>\n",
       "     <use xlink:href=\"#DejaVuSans-Bold-72\" x=\"1878.369141\"/>\n",
       "     <use xlink:href=\"#DejaVuSans-Bold-69\" x=\"1927.685547\"/>\n",
       "     <use xlink:href=\"#DejaVuSans-Bold-63\" x=\"1961.962891\"/>\n",
       "     <use xlink:href=\"#DejaVuSans-Bold-73\" x=\"2021.240234\"/>\n",
       "    </g>\n",
       "   </g>\n",
       "   <g id=\"legend_1\">\n",
       "    <g id=\"patch_47\">\n",
       "     <path d=\"M 771.276562 89.030625 \n",
       "L 884.784375 89.030625 \n",
       "Q 886.784375 89.030625 886.784375 87.030625 \n",
       "L 886.784375 29.318125 \n",
       "Q 886.784375 27.318125 884.784375 27.318125 \n",
       "L 771.276562 27.318125 \n",
       "Q 769.276562 27.318125 769.276562 29.318125 \n",
       "L 769.276562 87.030625 \n",
       "Q 769.276562 89.030625 771.276562 89.030625 \n",
       "z\n",
       "\" style=\"fill: #ffffff; opacity: 0.8; stroke: #cccccc; stroke-linejoin: miter\"/>\n",
       "    </g>\n",
       "    <g id=\"patch_48\">\n",
       "     <path d=\"M 773.276562 38.916562 \n",
       "L 793.276562 38.916562 \n",
       "L 793.276562 31.916562 \n",
       "L 773.276562 31.916562 \n",
       "z\n",
       "\" style=\"fill: #1f77b4\"/>\n",
       "    </g>\n",
       "    <g id=\"text_34\">\n",
       "     <!-- EfficientNetB0 -->\n",
       "     <g transform=\"translate(801.276562 38.916562) scale(0.1 -0.1)\">\n",
       "      <use xlink:href=\"#DejaVuSans-Bold-45\"/>\n",
       "      <use xlink:href=\"#DejaVuSans-Bold-66\" x=\"68.310547\"/>\n",
       "      <use xlink:href=\"#DejaVuSans-Bold-66\" x=\"111.816406\"/>\n",
       "      <use xlink:href=\"#DejaVuSans-Bold-69\" x=\"155.322266\"/>\n",
       "      <use xlink:href=\"#DejaVuSans-Bold-63\" x=\"189.599609\"/>\n",
       "      <use xlink:href=\"#DejaVuSans-Bold-69\" x=\"248.876953\"/>\n",
       "      <use xlink:href=\"#DejaVuSans-Bold-65\" x=\"283.154297\"/>\n",
       "      <use xlink:href=\"#DejaVuSans-Bold-6e\" x=\"350.976562\"/>\n",
       "      <use xlink:href=\"#DejaVuSans-Bold-74\" x=\"422.167969\"/>\n",
       "      <use xlink:href=\"#DejaVuSans-Bold-4e\" x=\"469.970703\"/>\n",
       "      <use xlink:href=\"#DejaVuSans-Bold-65\" x=\"553.662109\"/>\n",
       "      <use xlink:href=\"#DejaVuSans-Bold-74\" x=\"621.484375\"/>\n",
       "      <use xlink:href=\"#DejaVuSans-Bold-42\" x=\"669.287109\"/>\n",
       "      <use xlink:href=\"#DejaVuSans-Bold-30\" x=\"745.507812\"/>\n",
       "     </g>\n",
       "    </g>\n",
       "    <g id=\"patch_49\">\n",
       "     <path d=\"M 773.276562 53.594687 \n",
       "L 793.276562 53.594687 \n",
       "L 793.276562 46.594687 \n",
       "L 773.276562 46.594687 \n",
       "z\n",
       "\" style=\"fill: #ff7f0e\"/>\n",
       "    </g>\n",
       "    <g id=\"text_35\">\n",
       "     <!-- EfficientNetB1 -->\n",
       "     <g transform=\"translate(801.276562 53.594687) scale(0.1 -0.1)\">\n",
       "      <use xlink:href=\"#DejaVuSans-Bold-45\"/>\n",
       "      <use xlink:href=\"#DejaVuSans-Bold-66\" x=\"68.310547\"/>\n",
       "      <use xlink:href=\"#DejaVuSans-Bold-66\" x=\"111.816406\"/>\n",
       "      <use xlink:href=\"#DejaVuSans-Bold-69\" x=\"155.322266\"/>\n",
       "      <use xlink:href=\"#DejaVuSans-Bold-63\" x=\"189.599609\"/>\n",
       "      <use xlink:href=\"#DejaVuSans-Bold-69\" x=\"248.876953\"/>\n",
       "      <use xlink:href=\"#DejaVuSans-Bold-65\" x=\"283.154297\"/>\n",
       "      <use xlink:href=\"#DejaVuSans-Bold-6e\" x=\"350.976562\"/>\n",
       "      <use xlink:href=\"#DejaVuSans-Bold-74\" x=\"422.167969\"/>\n",
       "      <use xlink:href=\"#DejaVuSans-Bold-4e\" x=\"469.970703\"/>\n",
       "      <use xlink:href=\"#DejaVuSans-Bold-65\" x=\"553.662109\"/>\n",
       "      <use xlink:href=\"#DejaVuSans-Bold-74\" x=\"621.484375\"/>\n",
       "      <use xlink:href=\"#DejaVuSans-Bold-42\" x=\"669.287109\"/>\n",
       "      <use xlink:href=\"#DejaVuSans-Bold-31\" x=\"745.507812\"/>\n",
       "     </g>\n",
       "    </g>\n",
       "    <g id=\"patch_50\">\n",
       "     <path d=\"M 773.276562 68.272812 \n",
       "L 793.276562 68.272812 \n",
       "L 793.276562 61.272812 \n",
       "L 773.276562 61.272812 \n",
       "z\n",
       "\" style=\"fill: #2ca02c\"/>\n",
       "    </g>\n",
       "    <g id=\"text_36\">\n",
       "     <!-- EfficientNetB2 -->\n",
       "     <g transform=\"translate(801.276562 68.272812) scale(0.1 -0.1)\">\n",
       "      <use xlink:href=\"#DejaVuSans-Bold-45\"/>\n",
       "      <use xlink:href=\"#DejaVuSans-Bold-66\" x=\"68.310547\"/>\n",
       "      <use xlink:href=\"#DejaVuSans-Bold-66\" x=\"111.816406\"/>\n",
       "      <use xlink:href=\"#DejaVuSans-Bold-69\" x=\"155.322266\"/>\n",
       "      <use xlink:href=\"#DejaVuSans-Bold-63\" x=\"189.599609\"/>\n",
       "      <use xlink:href=\"#DejaVuSans-Bold-69\" x=\"248.876953\"/>\n",
       "      <use xlink:href=\"#DejaVuSans-Bold-65\" x=\"283.154297\"/>\n",
       "      <use xlink:href=\"#DejaVuSans-Bold-6e\" x=\"350.976562\"/>\n",
       "      <use xlink:href=\"#DejaVuSans-Bold-74\" x=\"422.167969\"/>\n",
       "      <use xlink:href=\"#DejaVuSans-Bold-4e\" x=\"469.970703\"/>\n",
       "      <use xlink:href=\"#DejaVuSans-Bold-65\" x=\"553.662109\"/>\n",
       "      <use xlink:href=\"#DejaVuSans-Bold-74\" x=\"621.484375\"/>\n",
       "      <use xlink:href=\"#DejaVuSans-Bold-42\" x=\"669.287109\"/>\n",
       "      <use xlink:href=\"#DejaVuSans-Bold-32\" x=\"745.507812\"/>\n",
       "     </g>\n",
       "    </g>\n",
       "    <g id=\"patch_51\">\n",
       "     <path d=\"M 773.276562 82.950937 \n",
       "L 793.276562 82.950937 \n",
       "L 793.276562 75.950937 \n",
       "L 773.276562 75.950937 \n",
       "z\n",
       "\" style=\"fill: #d62728\"/>\n",
       "    </g>\n",
       "    <g id=\"text_37\">\n",
       "     <!-- EfficientNetB3 -->\n",
       "     <g transform=\"translate(801.276562 82.950937) scale(0.1 -0.1)\">\n",
       "      <use xlink:href=\"#DejaVuSans-Bold-45\"/>\n",
       "      <use xlink:href=\"#DejaVuSans-Bold-66\" x=\"68.310547\"/>\n",
       "      <use xlink:href=\"#DejaVuSans-Bold-66\" x=\"111.816406\"/>\n",
       "      <use xlink:href=\"#DejaVuSans-Bold-69\" x=\"155.322266\"/>\n",
       "      <use xlink:href=\"#DejaVuSans-Bold-63\" x=\"189.599609\"/>\n",
       "      <use xlink:href=\"#DejaVuSans-Bold-69\" x=\"248.876953\"/>\n",
       "      <use xlink:href=\"#DejaVuSans-Bold-65\" x=\"283.154297\"/>\n",
       "      <use xlink:href=\"#DejaVuSans-Bold-6e\" x=\"350.976562\"/>\n",
       "      <use xlink:href=\"#DejaVuSans-Bold-74\" x=\"422.167969\"/>\n",
       "      <use xlink:href=\"#DejaVuSans-Bold-4e\" x=\"469.970703\"/>\n",
       "      <use xlink:href=\"#DejaVuSans-Bold-65\" x=\"553.662109\"/>\n",
       "      <use xlink:href=\"#DejaVuSans-Bold-74\" x=\"621.484375\"/>\n",
       "      <use xlink:href=\"#DejaVuSans-Bold-42\" x=\"669.287109\"/>\n",
       "      <use xlink:href=\"#DejaVuSans-Bold-33\" x=\"745.507812\"/>\n",
       "     </g>\n",
       "    </g>\n",
       "   </g>\n",
       "  </g>\n",
       " </g>\n",
       " <defs>\n",
       "  <clipPath id=\"p97131c3641\">\n",
       "   <rect x=\"105.009375\" y=\"22.318125\" width=\"629.42\" height=\"376.32\"/>\n",
       "  </clipPath>\n",
       " </defs>\n",
       "</svg>\n"
      ],
      "text/plain": [
       "<Figure size 1200x800 with 1 Axes>"
      ]
     },
     "metadata": {},
     "output_type": "display_data"
    }
   ],
   "source": [
    "# creating a 2 dimensional dataframe out of the given data\n",
    "results_df = pd.read_csv(os.path.join(\".\", result_folder, \"landmark_prediction_results.csv\"))\n",
    "results_df = results_df.rename(columns={\"Unnamed: 0\": \"Model\"})\n",
    "\n",
    "\n",
    "# Set the model names as the index for better labeling on the x-axis\n",
    "results_df.set_index(\"Model\", inplace=True)\n",
    "\n",
    "results_df_transposed = results_df.transpose()\n",
    "\n",
    "# Create a bar plot for the DataFrame\n",
    "ax = results_df_transposed.plot(kind=\"bar\", figsize=(12, 8))\n",
    "ax.set_ylabel(\"Scores\")\n",
    "# ax.set_xlabel('Metrics')\n",
    "ax.set_title(\"Landmarks Model Evaluation Metrics\")\n",
    "\n",
    "# Set the y-axis lower limit to 0.90\n",
    "ax.set_ylim(0.70, 1.0)\n",
    "ax.legend(loc=\"upper right\", bbox_to_anchor=(1.25, 1), ncol=1)\n",
    "\n",
    "# Show the plot\n",
    "plt.grid()\n",
    "\n",
    "# Bold the fonts in the graph\n",
    "matplotlib.rcParams[\"font.weight\"] = \"bold\"\n",
    "matplotlib.rcParams[\"axes.labelweight\"] = \"bold\"\n",
    "matplotlib.rcParams[\"axes.titleweight\"] = \"bold\"\n",
    "ax.tick_params(axis=\"y\", which=\"major\", labelsize=11, width=2, length=6)\n",
    "\n",
    "# plt.xticks(rotation=45)\n",
    "ax.set_xticklabels([])\n",
    "plt.tight_layout()\n",
    "plt.subplots_adjust(bottom=0.3)\n",
    "table(ax, results_df.round(4), loc=\"bottom\", cellLoc=\"center\")\n",
    "plt.show()"
   ]
  },
  {
   "cell_type": "code",
   "execution_count": 2,
   "metadata": {},
   "outputs": [
    {
     "name": "stdout",
     "output_type": "stream",
     "text": [
      "TensorFlow version: 2.13.1\n"
     ]
    }
   ],
   "source": [
    "import tensorflow as tf\n",
    "print(\"TensorFlow version:\", tf.__version__)"
   ]
  },
  {
   "cell_type": "code",
   "execution_count": 3,
   "metadata": {},
   "outputs": [
    {
     "name": "stdout",
     "output_type": "stream",
     "text": [
      "Keras version: 2.13.1\n"
     ]
    }
   ],
   "source": [
    "import keras\n",
    "\n",
    "print(\"Keras version:\", keras.__version__)"
   ]
  },
  {
   "cell_type": "code",
   "execution_count": null,
   "metadata": {},
   "outputs": [],
   "source": []
  }
 ],
 "metadata": {
  "kernelspec": {
   "display_name": "fyp",
   "language": "python",
   "name": "python3"
  },
  "language_info": {
   "codemirror_mode": {
    "name": "ipython",
    "version": 3
   },
   "file_extension": ".py",
   "mimetype": "text/x-python",
   "name": "python",
   "nbconvert_exporter": "python",
   "pygments_lexer": "ipython3",
   "version": "3.11.6"
  }
 },
 "nbformat": 4,
 "nbformat_minor": 2
}
