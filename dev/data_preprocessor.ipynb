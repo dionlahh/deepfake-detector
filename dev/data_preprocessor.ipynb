{
 "cells": [
  {
   "cell_type": "markdown",
   "metadata": {},
   "source": [
    "# Data Preprocessing\n",
    "\n",
    "Trying to extract images from videos, ensuring that these images extracted contains a face\n"
   ]
  },
  {
   "cell_type": "markdown",
   "metadata": {},
   "source": [
    "## Importing Libraries\n"
   ]
  },
  {
   "cell_type": "code",
   "execution_count": 1,
   "metadata": {},
   "outputs": [],
   "source": [
    "import numpy as np\n",
    "import tensorflow as tf\n",
    "import numpy as np\n",
    "import pandas as pd\n",
    "import matplotlib.pyplot as plt\n",
    "import os\n",
    "import cv2"
   ]
  },
  {
   "cell_type": "markdown",
   "metadata": {},
   "source": [
    "### Extract out frames from all the videos\n"
   ]
  },
  {
   "cell_type": "markdown",
   "metadata": {},
   "source": [
    "This uses Haar Cascade facial detection"
   ]
  },
  {
   "cell_type": "code",
   "execution_count": 2,
   "metadata": {},
   "outputs": [],
   "source": [
    "# from common.frames_extractor import extract_frames_from_folder\n",
    "\n",
    "# FAKE_VID_PATH = \"data/manipulated_sequences/Deepfakes/raw/videos\"\n",
    "# FAKE_FRAMES_PATH = \"data/frames/deepfake\"\n",
    "\n",
    "# ORI_VID_PATH = \"data/downloaded_videos\"\n",
    "# ORI_FRAMES_PATH = \"data/frames/original\"\n",
    "\n",
    "# if len(os.listdir(FAKE_FRAMES_PATH)) == 0:\n",
    "#     extract_frames_from_folder(FAKE_VID_PATH, FAKE_FRAMES_PATH)\n",
    "# else:\n",
    "#     print(\"Data already extracted!\")\n",
    "\n",
    "# if len(os.listdir(ORI_FRAMES_PATH)) == 0:\n",
    "#     extract_frames_from_folder(ORI_VID_PATH, ORI_FRAMES_PATH, faked=False)\n",
    "# else:\n",
    "#     print(\"Data already extracted!\")"
   ]
  },
  {
   "cell_type": "markdown",
   "metadata": {},
   "source": [
    "This uses dlib's facial detection"
   ]
  },
  {
   "cell_type": "code",
   "execution_count": 3,
   "metadata": {},
   "outputs": [
    {
     "name": "stdout",
     "output_type": "stream",
     "text": [
      "Data already extracted!\n",
      "Data already extracted!\n"
     ]
    }
   ],
   "source": [
    "from common.face_extractor import extract_frames\n",
    "\n",
    "FAKE_VID_PATH = \"data/manipulated_sequences/Deepfakes/raw/videos\"\n",
    "ORI_VID_PATH = \"data/downloaded_videos\"\n",
    "\n",
    "ORI_FRAMES_PATH = \"data/frames/original2\"\n",
    "FAKE_FRAMES_PATH = \"data/frames/faked2\"\n",
    "\n",
    "if len(os.listdir(FAKE_FRAMES_PATH)) == 0:\n",
    "    extract_frames(FAKE_VID_PATH, FAKE_FRAMES_PATH, faked=True)\n",
    "else:\n",
    "    print(\"Data already extracted!\")\n",
    "\n",
    "if len(os.listdir(ORI_FRAMES_PATH)) == 0:\n",
    "    extract_frames(ORI_VID_PATH, ORI_FRAMES_PATH, faked=False)\n",
    "else:\n",
    "    print(\"Data already extracted!\")"
   ]
  },
  {
   "cell_type": "markdown",
   "metadata": {},
   "source": [
    "### Creating a dataframe\n",
    "This dataframe will store the relative path to the image, and its label.\n",
    "\n",
    "`True` - Is a deepfake\n",
    "\n",
    "`False` - Not a deepfake"
   ]
  },
  {
   "cell_type": "code",
   "execution_count": 4,
   "metadata": {},
   "outputs": [
    {
     "data": {
      "text/html": [
       "<div>\n",
       "<style scoped>\n",
       "    .dataframe tbody tr th:only-of-type {\n",
       "        vertical-align: middle;\n",
       "    }\n",
       "\n",
       "    .dataframe tbody tr th {\n",
       "        vertical-align: top;\n",
       "    }\n",
       "\n",
       "    .dataframe thead th {\n",
       "        text-align: right;\n",
       "    }\n",
       "</style>\n",
       "<table border=\"1\" class=\"dataframe\">\n",
       "  <thead>\n",
       "    <tr style=\"text-align: right;\">\n",
       "      <th></th>\n",
       "      <th>image_path</th>\n",
       "      <th>isDeepfake</th>\n",
       "    </tr>\n",
       "  </thead>\n",
       "  <tbody>\n",
       "    <tr>\n",
       "      <th>0</th>\n",
       "      <td>faked_frame_179_179_face_0.jpg</td>\n",
       "      <td>True</td>\n",
       "    </tr>\n",
       "    <tr>\n",
       "      <th>1</th>\n",
       "      <td>faked_frame_563_285_face_0.jpg</td>\n",
       "      <td>True</td>\n",
       "    </tr>\n",
       "    <tr>\n",
       "      <th>2</th>\n",
       "      <td>faked_frame_917_441_face_0.jpg</td>\n",
       "      <td>True</td>\n",
       "    </tr>\n",
       "    <tr>\n",
       "      <th>3</th>\n",
       "      <td>faked_frame_848_440_face_0.jpg</td>\n",
       "      <td>True</td>\n",
       "    </tr>\n",
       "    <tr>\n",
       "      <th>4</th>\n",
       "      <td>faked_frame_270_104_face_0.jpg</td>\n",
       "      <td>True</td>\n",
       "    </tr>\n",
       "  </tbody>\n",
       "</table>\n",
       "</div>"
      ],
      "text/plain": [
       "                       image_path  isDeepfake\n",
       "0  faked_frame_179_179_face_0.jpg        True\n",
       "1  faked_frame_563_285_face_0.jpg        True\n",
       "2  faked_frame_917_441_face_0.jpg        True\n",
       "3  faked_frame_848_440_face_0.jpg        True\n",
       "4  faked_frame_270_104_face_0.jpg        True"
      ]
     },
     "metadata": {},
     "output_type": "display_data"
    },
    {
     "data": {
      "text/html": [
       "<div>\n",
       "<style scoped>\n",
       "    .dataframe tbody tr th:only-of-type {\n",
       "        vertical-align: middle;\n",
       "    }\n",
       "\n",
       "    .dataframe tbody tr th {\n",
       "        vertical-align: top;\n",
       "    }\n",
       "\n",
       "    .dataframe thead th {\n",
       "        text-align: right;\n",
       "    }\n",
       "</style>\n",
       "<table border=\"1\" class=\"dataframe\">\n",
       "  <thead>\n",
       "    <tr style=\"text-align: right;\">\n",
       "      <th></th>\n",
       "      <th>image_path</th>\n",
       "      <th>isDeepfake</th>\n",
       "    </tr>\n",
       "  </thead>\n",
       "  <tbody>\n",
       "    <tr>\n",
       "      <th>5474</th>\n",
       "      <td>original_frame_678_5221_face_0.jpg</td>\n",
       "      <td>False</td>\n",
       "    </tr>\n",
       "    <tr>\n",
       "      <th>5475</th>\n",
       "      <td>original_frame_462_3307_face_0.jpg</td>\n",
       "      <td>False</td>\n",
       "    </tr>\n",
       "    <tr>\n",
       "      <th>5476</th>\n",
       "      <td>original_frame_779_7150_face_0.jpg</td>\n",
       "      <td>False</td>\n",
       "    </tr>\n",
       "    <tr>\n",
       "      <th>5477</th>\n",
       "      <td>original_frame_356_5410_face_0.jpg</td>\n",
       "      <td>False</td>\n",
       "    </tr>\n",
       "    <tr>\n",
       "      <th>5478</th>\n",
       "      <td>original_frame_511_3193_face_0.jpg</td>\n",
       "      <td>False</td>\n",
       "    </tr>\n",
       "  </tbody>\n",
       "</table>\n",
       "</div>"
      ],
      "text/plain": [
       "                              image_path  isDeepfake\n",
       "5474  original_frame_678_5221_face_0.jpg       False\n",
       "5475  original_frame_462_3307_face_0.jpg       False\n",
       "5476  original_frame_779_7150_face_0.jpg       False\n",
       "5477  original_frame_356_5410_face_0.jpg       False\n",
       "5478  original_frame_511_3193_face_0.jpg       False"
      ]
     },
     "metadata": {},
     "output_type": "display_data"
    }
   ],
   "source": [
    "data = []\n",
    "fake_dir = os.listdir(FAKE_FRAMES_PATH)\n",
    "original_dir = os.listdir(ORI_FRAMES_PATH)\n",
    "\n",
    "for image in fake_dir:\n",
    "    data.append((image, True))\n",
    "\n",
    "for image in original_dir:\n",
    "    data.append((image, False))\n",
    "    \n",
    "df = pd.DataFrame(data=data, columns=['image_path', 'isDeepfake'])\n",
    "\n",
    "display(df.head())\n",
    "display(df.tail())\n",
    "\n",
    "df.to_csv('data/data.csv', index=False)"
   ]
  }
 ],
 "metadata": {
  "kernelspec": {
   "display_name": "fyp",
   "language": "python",
   "name": "python3"
  },
  "language_info": {
   "codemirror_mode": {
    "name": "ipython",
    "version": 3
   },
   "file_extension": ".py",
   "mimetype": "text/x-python",
   "name": "python",
   "nbconvert_exporter": "python",
   "pygments_lexer": "ipython3",
   "version": "3.11.5"
  }
 },
 "nbformat": 4,
 "nbformat_minor": 2
}
